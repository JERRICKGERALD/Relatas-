{
  "nbformat": 4,
  "nbformat_minor": 0,
  "metadata": {
    "kernelspec": {
      "display_name": "Python 3",
      "language": "python",
      "name": "python3"
    },
    "language_info": {
      "codemirror_mode": {
        "name": "ipython",
        "version": 3
      },
      "file_extension": ".py",
      "mimetype": "text/x-python",
      "name": "python",
      "nbconvert_exporter": "python",
      "pygments_lexer": "ipython3",
      "version": "3.8.5"
    },
    "colab": {
      "name": "Relatas.ipynb",
      "provenance": []
    }
  },
  "cells": [
    {
      "cell_type": "markdown",
      "metadata": {
        "id": "8Ateex8GM0u_"
      },
      "source": [
        "## SALES FORECASTING"
      ]
    },
    {
      "cell_type": "code",
      "metadata": {
        "id": "rOyvL4D0M0vH"
      },
      "source": [
        "import numpy as np\n",
        "import pandas as pd\n",
        "import matplotlib.pyplot as plt\n",
        "%matplotlib inline\n",
        "from sklearn import metrics\n",
        "from math import sqrt"
      ],
      "execution_count": 2,
      "outputs": []
    },
    {
      "cell_type": "code",
      "metadata": {
        "colab": {
          "base_uri": "https://localhost:8080/"
        },
        "id": "kq05BU7TWLRH",
        "outputId": "c8643791-45c1-4fc0-afbb-9992af734fa0"
      },
      "source": [
        "!pip install xlrd"
      ],
      "execution_count": 4,
      "outputs": [
        {
          "output_type": "stream",
          "text": [
            "Requirement already satisfied: xlrd in /usr/local/lib/python3.7/dist-packages (1.1.0)\n"
          ],
          "name": "stdout"
        }
      ]
    },
    {
      "cell_type": "code",
      "metadata": {
        "id": "lWnKGfY9M0vI"
      },
      "source": [
        "d1=pd.read_excel(\"/content/interactions.xlsx\")"
      ],
      "execution_count": 7,
      "outputs": []
    },
    {
      "cell_type": "code",
      "metadata": {
        "colab": {
          "base_uri": "https://localhost:8080/",
          "height": 204
        },
        "id": "kyV15OVHM0vI",
        "outputId": "2405fd99-726a-41ce-a05a-6aded34ab29e"
      },
      "source": [
        "d1.head()"
      ],
      "execution_count": 8,
      "outputs": [
        {
          "output_type": "execute_result",
          "data": {
            "text/html": [
              "<div>\n",
              "<style scoped>\n",
              "    .dataframe tbody tr th:only-of-type {\n",
              "        vertical-align: middle;\n",
              "    }\n",
              "\n",
              "    .dataframe tbody tr th {\n",
              "        vertical-align: top;\n",
              "    }\n",
              "\n",
              "    .dataframe thead th {\n",
              "        text-align: right;\n",
              "    }\n",
              "</style>\n",
              "<table border=\"1\" class=\"dataframe\">\n",
              "  <thead>\n",
              "    <tr style=\"text-align: right;\">\n",
              "      <th></th>\n",
              "      <th>interactionID</th>\n",
              "      <th>fromEmailId</th>\n",
              "      <th>toEmailId</th>\n",
              "      <th>InteractionDate</th>\n",
              "      <th>InteractionType(Call/Email/SMS)</th>\n",
              "      <th>Extracted Interaction Text</th>\n",
              "    </tr>\n",
              "  </thead>\n",
              "  <tbody>\n",
              "    <tr>\n",
              "      <th>0</th>\n",
              "      <td>8842411</td>\n",
              "      <td>gladys@piedpiper.com</td>\n",
              "      <td>kristle@dontechi.com</td>\n",
              "      <td>2016-01-04</td>\n",
              "      <td>Call</td>\n",
              "      <td>I thoroughly enjoyed your presentation yesterd...</td>\n",
              "    </tr>\n",
              "    <tr>\n",
              "      <th>1</th>\n",
              "      <td>8015509</td>\n",
              "      <td>donn@piedpiper.com</td>\n",
              "      <td>orpha@umbrellacorporation.com</td>\n",
              "      <td>2016-01-04</td>\n",
              "      <td>Call</td>\n",
              "      <td>speaking with you and your staff will be a tre...</td>\n",
              "    </tr>\n",
              "    <tr>\n",
              "      <th>2</th>\n",
              "      <td>5976842</td>\n",
              "      <td>kary@piedpiper.com</td>\n",
              "      <td>claribel@goodsilron.com</td>\n",
              "      <td>2016-01-04</td>\n",
              "      <td>Email</td>\n",
              "      <td>However, I am unable to join because of my fam...</td>\n",
              "    </tr>\n",
              "    <tr>\n",
              "      <th>3</th>\n",
              "      <td>1471794</td>\n",
              "      <td>boris@piedpiper.com</td>\n",
              "      <td>gordon@scotfind.com</td>\n",
              "      <td>2016-01-04</td>\n",
              "      <td>Call</td>\n",
              "      <td>We are extremely sorry to inform you that we h...</td>\n",
              "    </tr>\n",
              "    <tr>\n",
              "      <th>4</th>\n",
              "      <td>4330320</td>\n",
              "      <td>darcel@piedpiper.com</td>\n",
              "      <td>benny@treequote.com</td>\n",
              "      <td>2016-01-04</td>\n",
              "      <td>Call</td>\n",
              "      <td>I don't think it's possible for me to meet you</td>\n",
              "    </tr>\n",
              "  </tbody>\n",
              "</table>\n",
              "</div>"
            ],
            "text/plain": [
              "   interactionID  ...                         Extracted Interaction Text\n",
              "0        8842411  ...  I thoroughly enjoyed your presentation yesterd...\n",
              "1        8015509  ...  speaking with you and your staff will be a tre...\n",
              "2        5976842  ...  However, I am unable to join because of my fam...\n",
              "3        1471794  ...  We are extremely sorry to inform you that we h...\n",
              "4        4330320  ...     I don't think it's possible for me to meet you\n",
              "\n",
              "[5 rows x 6 columns]"
            ]
          },
          "metadata": {
            "tags": []
          },
          "execution_count": 8
        }
      ]
    },
    {
      "cell_type": "code",
      "metadata": {
        "colab": {
          "base_uri": "https://localhost:8080/",
          "height": 323
        },
        "id": "NFzvXKVBM0vJ",
        "outputId": "f41280d2-2db5-40fa-c8e1-22036740d902"
      },
      "source": [
        "d2=pd.read_excel(\"/content/sales-pipeline.xlsx\")\n",
        "d2.head()"
      ],
      "execution_count": 9,
      "outputs": [
        {
          "output_type": "execute_result",
          "data": {
            "text/html": [
              "<div>\n",
              "<style scoped>\n",
              "    .dataframe tbody tr th:only-of-type {\n",
              "        vertical-align: middle;\n",
              "    }\n",
              "\n",
              "    .dataframe tbody tr th {\n",
              "        vertical-align: top;\n",
              "    }\n",
              "\n",
              "    .dataframe thead th {\n",
              "        text-align: right;\n",
              "    }\n",
              "</style>\n",
              "<table border=\"1\" class=\"dataframe\">\n",
              "  <thead>\n",
              "    <tr style=\"text-align: right;\">\n",
              "      <th></th>\n",
              "      <th>Account</th>\n",
              "      <th>Opportunity_ID</th>\n",
              "      <th>Sales_Agent</th>\n",
              "      <th>SalesAgentEmailID</th>\n",
              "      <th>ContactEmailID</th>\n",
              "      <th>Deal_Stage</th>\n",
              "      <th>Product</th>\n",
              "      <th>Close_Value</th>\n",
              "      <th>Created Date</th>\n",
              "      <th>Close Date</th>\n",
              "      <th>DateDiff</th>\n",
              "    </tr>\n",
              "  </thead>\n",
              "  <tbody>\n",
              "    <tr>\n",
              "      <th>0</th>\n",
              "      <td>Konex</td>\n",
              "      <td>3KR50X38</td>\n",
              "      <td>Corliss Cosme</td>\n",
              "      <td>corliss@piedpiper.com</td>\n",
              "      <td>delila@konex.com</td>\n",
              "      <td>Won</td>\n",
              "      <td>GTX Plus Basic</td>\n",
              "      <td>1255</td>\n",
              "      <td>2016-01-04</td>\n",
              "      <td>2016-05-24</td>\n",
              "      <td>141</td>\n",
              "    </tr>\n",
              "    <tr>\n",
              "      <th>1</th>\n",
              "      <td>Finjob</td>\n",
              "      <td>YFS5KLJJ</td>\n",
              "      <td>Rosalina Dieter</td>\n",
              "      <td>rosalina@piedpiper.com</td>\n",
              "      <td>belinda@finjob.com</td>\n",
              "      <td>Won</td>\n",
              "      <td>MG Special</td>\n",
              "      <td>45</td>\n",
              "      <td>2016-01-04</td>\n",
              "      <td>2016-11-02</td>\n",
              "      <td>303</td>\n",
              "    </tr>\n",
              "    <tr>\n",
              "      <th>2</th>\n",
              "      <td>Kinnamplus</td>\n",
              "      <td>N0ONCYVZ</td>\n",
              "      <td>Donn Cantrell</td>\n",
              "      <td>donn@piedpiper.com</td>\n",
              "      <td>monte@kinnamplus.com</td>\n",
              "      <td>Lost</td>\n",
              "      <td>MG Special</td>\n",
              "      <td>1054</td>\n",
              "      <td>2016-01-06</td>\n",
              "      <td>2016-12-07</td>\n",
              "      <td>336</td>\n",
              "    </tr>\n",
              "    <tr>\n",
              "      <th>3</th>\n",
              "      <td>Genco Pura Olive Oil Company</td>\n",
              "      <td>IBEUTCSW</td>\n",
              "      <td>James Ascencio</td>\n",
              "      <td>james@piedpiper.com</td>\n",
              "      <td>karole@gencopuraoliveoilcompany.com</td>\n",
              "      <td>In Progress</td>\n",
              "      <td>MG Advanced</td>\n",
              "      <td>1054</td>\n",
              "      <td>2016-01-06</td>\n",
              "      <td>2016-09-11</td>\n",
              "      <td>249</td>\n",
              "    </tr>\n",
              "    <tr>\n",
              "      <th>4</th>\n",
              "      <td>Initech</td>\n",
              "      <td>G8AO5FA2</td>\n",
              "      <td>Wilburn Farren</td>\n",
              "      <td>wilburn@piedpiper.com</td>\n",
              "      <td>alejandro@initech.com</td>\n",
              "      <td>Lost</td>\n",
              "      <td>MG Advanced</td>\n",
              "      <td>517</td>\n",
              "      <td>2016-01-06</td>\n",
              "      <td>2016-09-18</td>\n",
              "      <td>256</td>\n",
              "    </tr>\n",
              "  </tbody>\n",
              "</table>\n",
              "</div>"
            ],
            "text/plain": [
              "                        Account Opportunity_ID  ... Close Date DateDiff\n",
              "0                         Konex       3KR50X38  ... 2016-05-24      141\n",
              "1                        Finjob       YFS5KLJJ  ... 2016-11-02      303\n",
              "2                    Kinnamplus       N0ONCYVZ  ... 2016-12-07      336\n",
              "3  Genco Pura Olive Oil Company       IBEUTCSW  ... 2016-09-11      249\n",
              "4                       Initech       G8AO5FA2  ... 2016-09-18      256\n",
              "\n",
              "[5 rows x 11 columns]"
            ]
          },
          "metadata": {
            "tags": []
          },
          "execution_count": 9
        }
      ]
    },
    {
      "cell_type": "code",
      "metadata": {
        "id": "vy05kf6MM0vK"
      },
      "source": [
        "d2=d2[d2['Deal_Stage']=='Won']"
      ],
      "execution_count": 10,
      "outputs": []
    },
    {
      "cell_type": "code",
      "metadata": {
        "colab": {
          "base_uri": "https://localhost:8080/",
          "height": 306
        },
        "id": "suZlQ8tuM0vK",
        "outputId": "565dc7d6-b9ea-4e50-f53a-a23a59d8ea36"
      },
      "source": [
        "d2.head()"
      ],
      "execution_count": 11,
      "outputs": [
        {
          "output_type": "execute_result",
          "data": {
            "text/html": [
              "<div>\n",
              "<style scoped>\n",
              "    .dataframe tbody tr th:only-of-type {\n",
              "        vertical-align: middle;\n",
              "    }\n",
              "\n",
              "    .dataframe tbody tr th {\n",
              "        vertical-align: top;\n",
              "    }\n",
              "\n",
              "    .dataframe thead th {\n",
              "        text-align: right;\n",
              "    }\n",
              "</style>\n",
              "<table border=\"1\" class=\"dataframe\">\n",
              "  <thead>\n",
              "    <tr style=\"text-align: right;\">\n",
              "      <th></th>\n",
              "      <th>Account</th>\n",
              "      <th>Opportunity_ID</th>\n",
              "      <th>Sales_Agent</th>\n",
              "      <th>SalesAgentEmailID</th>\n",
              "      <th>ContactEmailID</th>\n",
              "      <th>Deal_Stage</th>\n",
              "      <th>Product</th>\n",
              "      <th>Close_Value</th>\n",
              "      <th>Created Date</th>\n",
              "      <th>Close Date</th>\n",
              "      <th>DateDiff</th>\n",
              "    </tr>\n",
              "  </thead>\n",
              "  <tbody>\n",
              "    <tr>\n",
              "      <th>0</th>\n",
              "      <td>Konex</td>\n",
              "      <td>3KR50X38</td>\n",
              "      <td>Corliss Cosme</td>\n",
              "      <td>corliss@piedpiper.com</td>\n",
              "      <td>delila@konex.com</td>\n",
              "      <td>Won</td>\n",
              "      <td>GTX Plus Basic</td>\n",
              "      <td>1255</td>\n",
              "      <td>2016-01-04</td>\n",
              "      <td>2016-05-24</td>\n",
              "      <td>141</td>\n",
              "    </tr>\n",
              "    <tr>\n",
              "      <th>1</th>\n",
              "      <td>Finjob</td>\n",
              "      <td>YFS5KLJJ</td>\n",
              "      <td>Rosalina Dieter</td>\n",
              "      <td>rosalina@piedpiper.com</td>\n",
              "      <td>belinda@finjob.com</td>\n",
              "      <td>Won</td>\n",
              "      <td>MG Special</td>\n",
              "      <td>45</td>\n",
              "      <td>2016-01-04</td>\n",
              "      <td>2016-11-02</td>\n",
              "      <td>303</td>\n",
              "    </tr>\n",
              "    <tr>\n",
              "      <th>5</th>\n",
              "      <td>Stanredtax</td>\n",
              "      <td>2V848WZD</td>\n",
              "      <td>Lajuana Vencill</td>\n",
              "      <td>lajuana@piedpiper.com</td>\n",
              "      <td>candice@stanredtax.com</td>\n",
              "      <td>Won</td>\n",
              "      <td>MG Advanced</td>\n",
              "      <td>3180</td>\n",
              "      <td>2016-01-07</td>\n",
              "      <td>2016-01-31</td>\n",
              "      <td>24</td>\n",
              "    </tr>\n",
              "    <tr>\n",
              "      <th>6</th>\n",
              "      <td>Hatfan</td>\n",
              "      <td>PE84CX4O</td>\n",
              "      <td>Zane Levy</td>\n",
              "      <td>zane@piedpiper.com</td>\n",
              "      <td>tyron@hatfan.com</td>\n",
              "      <td>Won</td>\n",
              "      <td>GTX Basic</td>\n",
              "      <td>517</td>\n",
              "      <td>2016-01-08</td>\n",
              "      <td>2016-12-08</td>\n",
              "      <td>335</td>\n",
              "    </tr>\n",
              "    <tr>\n",
              "      <th>7</th>\n",
              "      <td>Y-corporation</td>\n",
              "      <td>GIUUTBXM</td>\n",
              "      <td>Kary Hendrixson</td>\n",
              "      <td>kary@piedpiper.com</td>\n",
              "      <td>rosanne@y-corporation.com</td>\n",
              "      <td>Won</td>\n",
              "      <td>GTXPro</td>\n",
              "      <td>5539</td>\n",
              "      <td>2016-01-10</td>\n",
              "      <td>2016-12-03</td>\n",
              "      <td>328</td>\n",
              "    </tr>\n",
              "  </tbody>\n",
              "</table>\n",
              "</div>"
            ],
            "text/plain": [
              "         Account Opportunity_ID  ... Close Date DateDiff\n",
              "0          Konex       3KR50X38  ... 2016-05-24      141\n",
              "1         Finjob       YFS5KLJJ  ... 2016-11-02      303\n",
              "5     Stanredtax       2V848WZD  ... 2016-01-31       24\n",
              "6         Hatfan       PE84CX4O  ... 2016-12-08      335\n",
              "7  Y-corporation       GIUUTBXM  ... 2016-12-03      328\n",
              "\n",
              "[5 rows x 11 columns]"
            ]
          },
          "metadata": {
            "tags": []
          },
          "execution_count": 11
        }
      ]
    },
    {
      "cell_type": "code",
      "metadata": {
        "id": "-o_rmLgqM0vK"
      },
      "source": [
        "\n",
        "from vaderSentiment.vaderSentiment import SentimentIntensityAnalyzer\n",
        "analyser = SentimentIntensityAnalyzer()"
      ],
      "execution_count": 15,
      "outputs": []
    },
    {
      "cell_type": "code",
      "metadata": {
        "colab": {
          "base_uri": "https://localhost:8080/"
        },
        "id": "Ozmzkby2StG5",
        "outputId": "d698934c-ba8d-462c-a5f1-e295793b99d8"
      },
      "source": [
        "!pip install vaderSentiment"
      ],
      "execution_count": 13,
      "outputs": [
        {
          "output_type": "stream",
          "text": [
            "Collecting vaderSentiment\n",
            "\u001b[?25l  Downloading https://files.pythonhosted.org/packages/76/fc/310e16254683c1ed35eeb97386986d6c00bc29df17ce280aed64d55537e9/vaderSentiment-3.3.2-py2.py3-none-any.whl (125kB)\n",
            "\r\u001b[K     |██▋                             | 10kB 15.0MB/s eta 0:00:01\r\u001b[K     |█████▏                          | 20kB 10.1MB/s eta 0:00:01\r\u001b[K     |███████▉                        | 30kB 9.2MB/s eta 0:00:01\r\u001b[K     |██████████▍                     | 40kB 8.4MB/s eta 0:00:01\r\u001b[K     |█████████████                   | 51kB 4.6MB/s eta 0:00:01\r\u001b[K     |███████████████▋                | 61kB 5.2MB/s eta 0:00:01\r\u001b[K     |██████████████████▏             | 71kB 5.1MB/s eta 0:00:01\r\u001b[K     |████████████████████▉           | 81kB 5.1MB/s eta 0:00:01\r\u001b[K     |███████████████████████▍        | 92kB 5.1MB/s eta 0:00:01\r\u001b[K     |██████████████████████████      | 102kB 5.5MB/s eta 0:00:01\r\u001b[K     |████████████████████████████▋   | 112kB 5.5MB/s eta 0:00:01\r\u001b[K     |███████████████████████████████▏| 122kB 5.5MB/s eta 0:00:01\r\u001b[K     |████████████████████████████████| 133kB 5.5MB/s \n",
            "\u001b[?25hRequirement already satisfied: requests in /usr/local/lib/python3.7/dist-packages (from vaderSentiment) (2.23.0)\n",
            "Requirement already satisfied: urllib3!=1.25.0,!=1.25.1,<1.26,>=1.21.1 in /usr/local/lib/python3.7/dist-packages (from requests->vaderSentiment) (1.24.3)\n",
            "Requirement already satisfied: chardet<4,>=3.0.2 in /usr/local/lib/python3.7/dist-packages (from requests->vaderSentiment) (3.0.4)\n",
            "Requirement already satisfied: certifi>=2017.4.17 in /usr/local/lib/python3.7/dist-packages (from requests->vaderSentiment) (2020.12.5)\n",
            "Requirement already satisfied: idna<3,>=2.5 in /usr/local/lib/python3.7/dist-packages (from requests->vaderSentiment) (2.10)\n",
            "Installing collected packages: vaderSentiment\n",
            "Successfully installed vaderSentiment-3.3.2\n"
          ],
          "name": "stdout"
        }
      ]
    },
    {
      "cell_type": "code",
      "metadata": {
        "id": "tK_tuuZrM0vL"
      },
      "source": [
        "d1 = d1[~(d1.toEmailId.str.contains(\"@piedpiper.com\") & d1.fromEmailId.str.contains(\"@piedpier\"))]"
      ],
      "execution_count": 16,
      "outputs": []
    },
    {
      "cell_type": "code",
      "metadata": {
        "id": "zCJTAOT_M0vL"
      },
      "source": [
        "scores =[]\n",
        "text=d1['Extracted Interaction Text']\n",
        "for sentence in text:\n",
        "    score = analyser.polarity_scores(sentence)\n",
        "    scores.append(score)"
      ],
      "execution_count": 17,
      "outputs": []
    },
    {
      "cell_type": "code",
      "metadata": {
        "id": "8mumAthqM0vL"
      },
      "source": [
        "df3=pd.DataFrame(scores)\n",
        "d1=pd.concat([d1,df3.compound],axis=1)"
      ],
      "execution_count": 18,
      "outputs": []
    },
    {
      "cell_type": "code",
      "metadata": {
        "id": "Dn3ITZwjM0vM"
      },
      "source": [
        "d1 = d1.rename(columns = {\"compound\":\"Score\"})"
      ],
      "execution_count": 19,
      "outputs": []
    },
    {
      "cell_type": "code",
      "metadata": {
        "colab": {
          "base_uri": "https://localhost:8080/",
          "height": 289
        },
        "id": "-D4XCEL3M0vM",
        "outputId": "4070c24e-1e82-487d-a237-55a8423bcdc0"
      },
      "source": [
        "d1.tail()"
      ],
      "execution_count": 20,
      "outputs": [
        {
          "output_type": "execute_result",
          "data": {
            "text/html": [
              "<div>\n",
              "<style scoped>\n",
              "    .dataframe tbody tr th:only-of-type {\n",
              "        vertical-align: middle;\n",
              "    }\n",
              "\n",
              "    .dataframe tbody tr th {\n",
              "        vertical-align: top;\n",
              "    }\n",
              "\n",
              "    .dataframe thead th {\n",
              "        text-align: right;\n",
              "    }\n",
              "</style>\n",
              "<table border=\"1\" class=\"dataframe\">\n",
              "  <thead>\n",
              "    <tr style=\"text-align: right;\">\n",
              "      <th></th>\n",
              "      <th>interactionID</th>\n",
              "      <th>fromEmailId</th>\n",
              "      <th>toEmailId</th>\n",
              "      <th>InteractionDate</th>\n",
              "      <th>InteractionType(Call/Email/SMS)</th>\n",
              "      <th>Extracted Interaction Text</th>\n",
              "      <th>Score</th>\n",
              "    </tr>\n",
              "  </thead>\n",
              "  <tbody>\n",
              "    <tr>\n",
              "      <th>316771</th>\n",
              "      <td>4113251</td>\n",
              "      <td>jonathan@piedpiper.com</td>\n",
              "      <td>jonathan@piedpiper.com</td>\n",
              "      <td>2019-08-01</td>\n",
              "      <td>Call</td>\n",
              "      <td>I hope you have all had a chance to look at ou...</td>\n",
              "      <td>0.9627</td>\n",
              "    </tr>\n",
              "    <tr>\n",
              "      <th>316772</th>\n",
              "      <td>1017954</td>\n",
              "      <td>darcel@piedpiper.com</td>\n",
              "      <td>darcel@piedpiper.com</td>\n",
              "      <td>2019-08-01</td>\n",
              "      <td>Call</td>\n",
              "      <td>I'm not convinced with the progress of the pro...</td>\n",
              "      <td>0.1386</td>\n",
              "    </tr>\n",
              "    <tr>\n",
              "      <th>316773</th>\n",
              "      <td>1776707</td>\n",
              "      <td>rosalina@piedpiper.com</td>\n",
              "      <td>rosalina@piedpiper.com</td>\n",
              "      <td>2019-08-01</td>\n",
              "      <td>Call</td>\n",
              "      <td>After spending nearly five years consulting fo...</td>\n",
              "      <td>0.0772</td>\n",
              "    </tr>\n",
              "    <tr>\n",
              "      <th>316774</th>\n",
              "      <td>9400643</td>\n",
              "      <td>lajuana@piedpiper.com</td>\n",
              "      <td>lajuana@piedpiper.com</td>\n",
              "      <td>2019-08-01</td>\n",
              "      <td>Call</td>\n",
              "      <td>We appreciate your interest in Doe's English L...</td>\n",
              "      <td>0.5434</td>\n",
              "    </tr>\n",
              "    <tr>\n",
              "      <th>316775</th>\n",
              "      <td>4148300</td>\n",
              "      <td>vicki@piedpiper.com</td>\n",
              "      <td>vicki@piedpiper.com</td>\n",
              "      <td>2019-08-01</td>\n",
              "      <td>Email</td>\n",
              "      <td>In order to dispel any rumors, the management ...</td>\n",
              "      <td>-0.0302</td>\n",
              "    </tr>\n",
              "  </tbody>\n",
              "</table>\n",
              "</div>"
            ],
            "text/plain": [
              "        interactionID  ...   Score\n",
              "316771        4113251  ...  0.9627\n",
              "316772        1017954  ...  0.1386\n",
              "316773        1776707  ...  0.0772\n",
              "316774        9400643  ...  0.5434\n",
              "316775        4148300  ... -0.0302\n",
              "\n",
              "[5 rows x 7 columns]"
            ]
          },
          "metadata": {
            "tags": []
          },
          "execution_count": 20
        }
      ]
    },
    {
      "cell_type": "code",
      "metadata": {
        "id": "Jmi96Ek8M0vM"
      },
      "source": [
        "d1.drop(['InteractionDate','InteractionType(Call/Email/SMS)'], axis='columns', inplace=True)"
      ],
      "execution_count": 21,
      "outputs": []
    },
    {
      "cell_type": "code",
      "metadata": {
        "scrolled": true,
        "colab": {
          "base_uri": "https://localhost:8080/"
        },
        "id": "N6wdxq_iM0vM",
        "outputId": "e00c1a15-4c92-43a0-a2d7-1d6a8a0944fd"
      },
      "source": [
        "d1.shape"
      ],
      "execution_count": 22,
      "outputs": [
        {
          "output_type": "execute_result",
          "data": {
            "text/plain": [
              "(316776, 5)"
            ]
          },
          "metadata": {
            "tags": []
          },
          "execution_count": 22
        }
      ]
    },
    {
      "cell_type": "code",
      "metadata": {
        "id": "ieQqpt6NM0vN"
      },
      "source": [
        "grp=d1.groupby(['fromEmailId','toEmailId'])['Score'].mean()\n",
        "d1=grp.to_frame()"
      ],
      "execution_count": 23,
      "outputs": []
    },
    {
      "cell_type": "code",
      "metadata": {
        "colab": {
          "base_uri": "https://localhost:8080/",
          "height": 204
        },
        "id": "Yy-e0UbnM0vN",
        "outputId": "5e8a0acb-def9-4f88-d95c-59de6cfccaac"
      },
      "source": [
        "d1.reset_index(level='fromEmailId',inplace=True)\n",
        "d1.reset_index(level='toEmailId',inplace=True)\n",
        "d1.head()"
      ],
      "execution_count": 24,
      "outputs": [
        {
          "output_type": "execute_result",
          "data": {
            "text/html": [
              "<div>\n",
              "<style scoped>\n",
              "    .dataframe tbody tr th:only-of-type {\n",
              "        vertical-align: middle;\n",
              "    }\n",
              "\n",
              "    .dataframe tbody tr th {\n",
              "        vertical-align: top;\n",
              "    }\n",
              "\n",
              "    .dataframe thead th {\n",
              "        text-align: right;\n",
              "    }\n",
              "</style>\n",
              "<table border=\"1\" class=\"dataframe\">\n",
              "  <thead>\n",
              "    <tr style=\"text-align: right;\">\n",
              "      <th></th>\n",
              "      <th>toEmailId</th>\n",
              "      <th>fromEmailId</th>\n",
              "      <th>Score</th>\n",
              "    </tr>\n",
              "  </thead>\n",
              "  <tbody>\n",
              "    <tr>\n",
              "      <th>0</th>\n",
              "      <td>alejandro@initech.com</td>\n",
              "      <td>anna@piedpiper.com</td>\n",
              "      <td>0.360613</td>\n",
              "    </tr>\n",
              "    <tr>\n",
              "      <th>1</th>\n",
              "      <td>anna@piedpiper.com</td>\n",
              "      <td>anna@piedpiper.com</td>\n",
              "      <td>0.352397</td>\n",
              "    </tr>\n",
              "    <tr>\n",
              "      <th>2</th>\n",
              "      <td>antionette@bluthcompany.com</td>\n",
              "      <td>anna@piedpiper.com</td>\n",
              "      <td>0.412384</td>\n",
              "    </tr>\n",
              "    <tr>\n",
              "      <th>3</th>\n",
              "      <td>ashlie@sonron.com</td>\n",
              "      <td>anna@piedpiper.com</td>\n",
              "      <td>0.298181</td>\n",
              "    </tr>\n",
              "    <tr>\n",
              "      <th>4</th>\n",
              "      <td>belinda@finjob.com</td>\n",
              "      <td>anna@piedpiper.com</td>\n",
              "      <td>0.388701</td>\n",
              "    </tr>\n",
              "  </tbody>\n",
              "</table>\n",
              "</div>"
            ],
            "text/plain": [
              "                     toEmailId         fromEmailId     Score\n",
              "0        alejandro@initech.com  anna@piedpiper.com  0.360613\n",
              "1           anna@piedpiper.com  anna@piedpiper.com  0.352397\n",
              "2  antionette@bluthcompany.com  anna@piedpiper.com  0.412384\n",
              "3            ashlie@sonron.com  anna@piedpiper.com  0.298181\n",
              "4           belinda@finjob.com  anna@piedpiper.com  0.388701"
            ]
          },
          "metadata": {
            "tags": []
          },
          "execution_count": 24
        }
      ]
    },
    {
      "cell_type": "code",
      "metadata": {
        "colab": {
          "base_uri": "https://localhost:8080/",
          "height": 204
        },
        "id": "p09YxJHpM0vN",
        "outputId": "b8ea75ee-34f7-49a1-e152-2fa2df3deff8"
      },
      "source": [
        "d1.head()"
      ],
      "execution_count": 25,
      "outputs": [
        {
          "output_type": "execute_result",
          "data": {
            "text/html": [
              "<div>\n",
              "<style scoped>\n",
              "    .dataframe tbody tr th:only-of-type {\n",
              "        vertical-align: middle;\n",
              "    }\n",
              "\n",
              "    .dataframe tbody tr th {\n",
              "        vertical-align: top;\n",
              "    }\n",
              "\n",
              "    .dataframe thead th {\n",
              "        text-align: right;\n",
              "    }\n",
              "</style>\n",
              "<table border=\"1\" class=\"dataframe\">\n",
              "  <thead>\n",
              "    <tr style=\"text-align: right;\">\n",
              "      <th></th>\n",
              "      <th>toEmailId</th>\n",
              "      <th>fromEmailId</th>\n",
              "      <th>Score</th>\n",
              "    </tr>\n",
              "  </thead>\n",
              "  <tbody>\n",
              "    <tr>\n",
              "      <th>0</th>\n",
              "      <td>alejandro@initech.com</td>\n",
              "      <td>anna@piedpiper.com</td>\n",
              "      <td>0.360613</td>\n",
              "    </tr>\n",
              "    <tr>\n",
              "      <th>1</th>\n",
              "      <td>anna@piedpiper.com</td>\n",
              "      <td>anna@piedpiper.com</td>\n",
              "      <td>0.352397</td>\n",
              "    </tr>\n",
              "    <tr>\n",
              "      <th>2</th>\n",
              "      <td>antionette@bluthcompany.com</td>\n",
              "      <td>anna@piedpiper.com</td>\n",
              "      <td>0.412384</td>\n",
              "    </tr>\n",
              "    <tr>\n",
              "      <th>3</th>\n",
              "      <td>ashlie@sonron.com</td>\n",
              "      <td>anna@piedpiper.com</td>\n",
              "      <td>0.298181</td>\n",
              "    </tr>\n",
              "    <tr>\n",
              "      <th>4</th>\n",
              "      <td>belinda@finjob.com</td>\n",
              "      <td>anna@piedpiper.com</td>\n",
              "      <td>0.388701</td>\n",
              "    </tr>\n",
              "  </tbody>\n",
              "</table>\n",
              "</div>"
            ],
            "text/plain": [
              "                     toEmailId         fromEmailId     Score\n",
              "0        alejandro@initech.com  anna@piedpiper.com  0.360613\n",
              "1           anna@piedpiper.com  anna@piedpiper.com  0.352397\n",
              "2  antionette@bluthcompany.com  anna@piedpiper.com  0.412384\n",
              "3            ashlie@sonron.com  anna@piedpiper.com  0.298181\n",
              "4           belinda@finjob.com  anna@piedpiper.com  0.388701"
            ]
          },
          "metadata": {
            "tags": []
          },
          "execution_count": 25
        }
      ]
    },
    {
      "cell_type": "code",
      "metadata": {
        "id": "byDbONWmM0vO"
      },
      "source": [
        "d2=d2.drop(['Deal_Stage','Account', 'Opportunity_ID', 'Sales_Agent','DateDiff','Created Date'],axis=1)"
      ],
      "execution_count": 26,
      "outputs": []
    },
    {
      "cell_type": "code",
      "metadata": {
        "colab": {
          "base_uri": "https://localhost:8080/",
          "height": 204
        },
        "id": "RdFvcO81M0vO",
        "outputId": "1883cc8d-e2bb-41d3-af06-c7ab8c47b47f"
      },
      "source": [
        "d2.head()"
      ],
      "execution_count": 27,
      "outputs": [
        {
          "output_type": "execute_result",
          "data": {
            "text/html": [
              "<div>\n",
              "<style scoped>\n",
              "    .dataframe tbody tr th:only-of-type {\n",
              "        vertical-align: middle;\n",
              "    }\n",
              "\n",
              "    .dataframe tbody tr th {\n",
              "        vertical-align: top;\n",
              "    }\n",
              "\n",
              "    .dataframe thead th {\n",
              "        text-align: right;\n",
              "    }\n",
              "</style>\n",
              "<table border=\"1\" class=\"dataframe\">\n",
              "  <thead>\n",
              "    <tr style=\"text-align: right;\">\n",
              "      <th></th>\n",
              "      <th>SalesAgentEmailID</th>\n",
              "      <th>ContactEmailID</th>\n",
              "      <th>Product</th>\n",
              "      <th>Close_Value</th>\n",
              "      <th>Close Date</th>\n",
              "    </tr>\n",
              "  </thead>\n",
              "  <tbody>\n",
              "    <tr>\n",
              "      <th>0</th>\n",
              "      <td>corliss@piedpiper.com</td>\n",
              "      <td>delila@konex.com</td>\n",
              "      <td>GTX Plus Basic</td>\n",
              "      <td>1255</td>\n",
              "      <td>2016-05-24</td>\n",
              "    </tr>\n",
              "    <tr>\n",
              "      <th>1</th>\n",
              "      <td>rosalina@piedpiper.com</td>\n",
              "      <td>belinda@finjob.com</td>\n",
              "      <td>MG Special</td>\n",
              "      <td>45</td>\n",
              "      <td>2016-11-02</td>\n",
              "    </tr>\n",
              "    <tr>\n",
              "      <th>5</th>\n",
              "      <td>lajuana@piedpiper.com</td>\n",
              "      <td>candice@stanredtax.com</td>\n",
              "      <td>MG Advanced</td>\n",
              "      <td>3180</td>\n",
              "      <td>2016-01-31</td>\n",
              "    </tr>\n",
              "    <tr>\n",
              "      <th>6</th>\n",
              "      <td>zane@piedpiper.com</td>\n",
              "      <td>tyron@hatfan.com</td>\n",
              "      <td>GTX Basic</td>\n",
              "      <td>517</td>\n",
              "      <td>2016-12-08</td>\n",
              "    </tr>\n",
              "    <tr>\n",
              "      <th>7</th>\n",
              "      <td>kary@piedpiper.com</td>\n",
              "      <td>rosanne@y-corporation.com</td>\n",
              "      <td>GTXPro</td>\n",
              "      <td>5539</td>\n",
              "      <td>2016-12-03</td>\n",
              "    </tr>\n",
              "  </tbody>\n",
              "</table>\n",
              "</div>"
            ],
            "text/plain": [
              "        SalesAgentEmailID             ContactEmailID  ... Close_Value  Close Date\n",
              "0   corliss@piedpiper.com           delila@konex.com  ...        1255  2016-05-24\n",
              "1  rosalina@piedpiper.com         belinda@finjob.com  ...          45  2016-11-02\n",
              "5   lajuana@piedpiper.com     candice@stanredtax.com  ...        3180  2016-01-31\n",
              "6      zane@piedpiper.com           tyron@hatfan.com  ...         517  2016-12-08\n",
              "7      kary@piedpiper.com  rosanne@y-corporation.com  ...        5539  2016-12-03\n",
              "\n",
              "[5 rows x 5 columns]"
            ]
          },
          "metadata": {
            "tags": []
          },
          "execution_count": 27
        }
      ]
    },
    {
      "cell_type": "code",
      "metadata": {
        "id": "3oPB5DtoM0vO"
      },
      "source": [
        "final_df = pd.merge(d2, d1,  how='left', left_on=['SalesAgentEmailID', 'ContactEmailID'], right_on = ['fromEmailId','toEmailId'])"
      ],
      "execution_count": 28,
      "outputs": []
    },
    {
      "cell_type": "code",
      "metadata": {
        "colab": {
          "base_uri": "https://localhost:8080/"
        },
        "id": "zsbzRSrcM0vO",
        "outputId": "962fc75d-c0de-4075-931c-b6090101a1a8"
      },
      "source": [
        "final_df.shape"
      ],
      "execution_count": 29,
      "outputs": [
        {
          "output_type": "execute_result",
          "data": {
            "text/plain": [
              "(4238, 8)"
            ]
          },
          "metadata": {
            "tags": []
          },
          "execution_count": 29
        }
      ]
    },
    {
      "cell_type": "code",
      "metadata": {
        "id": "1Wxcdp_fM0vP"
      },
      "source": [
        "final_df=final_df.drop(['toEmailId','fromEmailId'],axis=1)"
      ],
      "execution_count": 30,
      "outputs": []
    },
    {
      "cell_type": "code",
      "metadata": {
        "id": "w0i9cjKEM0vP"
      },
      "source": [
        "from sklearn.preprocessing import LabelEncoder\n",
        "encoder = LabelEncoder()\n",
        "final_df['Product'] = encoder.fit_transform(final_df['Product'])\n",
        "final_df['SalesAgentEmailID'] = encoder.fit_transform(final_df['SalesAgentEmailID'])\n",
        "final_df['ContactEmailID'] = encoder.fit_transform(final_df['ContactEmailID'])"
      ],
      "execution_count": 31,
      "outputs": []
    },
    {
      "cell_type": "code",
      "metadata": {
        "colab": {
          "base_uri": "https://localhost:8080/",
          "height": 204
        },
        "id": "LhoXy2AoM0vP",
        "outputId": "2a7f5d53-9df6-4696-f21e-83e67b509548"
      },
      "source": [
        "final_df.head()"
      ],
      "execution_count": 32,
      "outputs": [
        {
          "output_type": "execute_result",
          "data": {
            "text/html": [
              "<div>\n",
              "<style scoped>\n",
              "    .dataframe tbody tr th:only-of-type {\n",
              "        vertical-align: middle;\n",
              "    }\n",
              "\n",
              "    .dataframe tbody tr th {\n",
              "        vertical-align: top;\n",
              "    }\n",
              "\n",
              "    .dataframe thead th {\n",
              "        text-align: right;\n",
              "    }\n",
              "</style>\n",
              "<table border=\"1\" class=\"dataframe\">\n",
              "  <thead>\n",
              "    <tr style=\"text-align: right;\">\n",
              "      <th></th>\n",
              "      <th>SalesAgentEmailID</th>\n",
              "      <th>ContactEmailID</th>\n",
              "      <th>Product</th>\n",
              "      <th>Close_Value</th>\n",
              "      <th>Close Date</th>\n",
              "      <th>Score</th>\n",
              "    </tr>\n",
              "  </thead>\n",
              "  <tbody>\n",
              "    <tr>\n",
              "      <th>0</th>\n",
              "      <td>4</td>\n",
              "      <td>17</td>\n",
              "      <td>2</td>\n",
              "      <td>1255</td>\n",
              "      <td>2016-05-24</td>\n",
              "      <td>0.375377</td>\n",
              "    </tr>\n",
              "    <tr>\n",
              "      <th>1</th>\n",
              "      <td>23</td>\n",
              "      <td>3</td>\n",
              "      <td>6</td>\n",
              "      <td>45</td>\n",
              "      <td>2016-11-02</td>\n",
              "      <td>0.361523</td>\n",
              "    </tr>\n",
              "    <tr>\n",
              "      <th>2</th>\n",
              "      <td>16</td>\n",
              "      <td>6</td>\n",
              "      <td>5</td>\n",
              "      <td>3180</td>\n",
              "      <td>2016-01-31</td>\n",
              "      <td>0.304921</td>\n",
              "    </tr>\n",
              "    <tr>\n",
              "      <th>3</th>\n",
              "      <td>29</td>\n",
              "      <td>75</td>\n",
              "      <td>1</td>\n",
              "      <td>517</td>\n",
              "      <td>2016-12-08</td>\n",
              "      <td>0.448903</td>\n",
              "    </tr>\n",
              "    <tr>\n",
              "      <th>4</th>\n",
              "      <td>15</td>\n",
              "      <td>65</td>\n",
              "      <td>4</td>\n",
              "      <td>5539</td>\n",
              "      <td>2016-12-03</td>\n",
              "      <td>0.300602</td>\n",
              "    </tr>\n",
              "  </tbody>\n",
              "</table>\n",
              "</div>"
            ],
            "text/plain": [
              "   SalesAgentEmailID  ContactEmailID  Product  Close_Value Close Date     Score\n",
              "0                  4              17        2         1255 2016-05-24  0.375377\n",
              "1                 23               3        6           45 2016-11-02  0.361523\n",
              "2                 16               6        5         3180 2016-01-31  0.304921\n",
              "3                 29              75        1          517 2016-12-08  0.448903\n",
              "4                 15              65        4         5539 2016-12-03  0.300602"
            ]
          },
          "metadata": {
            "tags": []
          },
          "execution_count": 32
        }
      ]
    },
    {
      "cell_type": "code",
      "metadata": {
        "id": "VF5ZzLbdM0vP"
      },
      "source": [
        "final_df['Y-M'] = final_df['Close Date'].dt.strftime('%Y-%m')"
      ],
      "execution_count": 33,
      "outputs": []
    },
    {
      "cell_type": "code",
      "metadata": {
        "colab": {
          "base_uri": "https://localhost:8080/",
          "height": 279
        },
        "id": "MnDWFlO-M0vQ",
        "outputId": "2cea6030-18e0-464a-c5da-e9d647804555"
      },
      "source": [
        "final_df.plot.line(x='Y-M',y='Close_Value');"
      ],
      "execution_count": 34,
      "outputs": [
        {
          "output_type": "display_data",
          "data": {
            "image/png": "[encoded data removed]",
            "text/plain": [
              "<Figure size 432x288 with 1 Axes>"
            ]
          },
          "metadata": {
            "tags": [],
            "needs_background": "light"
          }
        }
      ]
    },
    {
      "cell_type": "code",
      "metadata": {
        "id": "_-4gvDCxM0vQ"
      },
      "source": [
        "final_df['Year']=pd.DatetimeIndex(final_df['Y-M']).year"
      ],
      "execution_count": 35,
      "outputs": []
    },
    {
      "cell_type": "code",
      "metadata": {
        "id": "MYwJibE7M0vQ"
      },
      "source": [
        "final_df['Month']=pd.DatetimeIndex(final_df['Y-M']).month"
      ],
      "execution_count": 36,
      "outputs": []
    },
    {
      "cell_type": "code",
      "metadata": {
        "id": "1ccxnIvvM0vR"
      },
      "source": [
        "final_df=final_df.drop(['Close Date'],axis=1)"
      ],
      "execution_count": 37,
      "outputs": []
    },
    {
      "cell_type": "code",
      "metadata": {
        "colab": {
          "base_uri": "https://localhost:8080/"
        },
        "id": "OW_aOVVmM0vR",
        "outputId": "e201abb3-bc53-46bc-ae36-e19d78ebc18e"
      },
      "source": [
        "final_df.shape"
      ],
      "execution_count": 38,
      "outputs": [
        {
          "output_type": "execute_result",
          "data": {
            "text/plain": [
              "(4238, 8)"
            ]
          },
          "metadata": {
            "tags": []
          },
          "execution_count": 38
        }
      ]
    },
    {
      "cell_type": "markdown",
      "metadata": {
        "id": "KRJ2Fijzl0Np"
      },
      "source": [
        "### AD FULLER TEST"
      ]
    },
    {
      "cell_type": "code",
      "metadata": {
        "colab": {
          "base_uri": "https://localhost:8080/"
        },
        "id": "xHVajk8DM0vR",
        "outputId": "252c8a73-8eb6-4bcb-f134-081708e20046"
      },
      "source": [
        "from statsmodels.tsa.stattools import adfuller\n",
        "def adfuller_test(sales):\n",
        "    result=adfuller(sales)\n",
        "    labels = ['ADF Test Statistic','p-value','#Lags Used','Number of Observations Used']\n",
        "    for value,label in zip(result,labels):\n",
        "        print(label+' : '+str(value) )\n",
        "    if result[1] <= 0.05:\n",
        "        print(\"strong evidence against the null hypothesis(Ho), reject the null hypothesis. Data has no unit root and is stationary\")\n",
        "    else:\n",
        "        print(\"weak evidence against null hypothesis, time series has a unit root, indicating it is non-stationary \")"
      ],
      "execution_count": 39,
      "outputs": [
        {
          "output_type": "stream",
          "text": [
            "/usr/local/lib/python3.7/dist-packages/statsmodels/tools/_testing.py:19: FutureWarning: pandas.util.testing is deprecated. Use the functions in the public API at pandas.testing instead.\n",
            "  import pandas.util.testing as tm\n"
          ],
          "name": "stderr"
        }
      ]
    },
    {
      "cell_type": "code",
      "metadata": {
        "colab": {
          "base_uri": "https://localhost:8080/"
        },
        "id": "UuxVBx8yM0vS",
        "outputId": "41f0c2a5-9b67-41d5-9733-ecdc3e33286e"
      },
      "source": [
        "adfuller_test(final_df['Close_Value'])"
      ],
      "execution_count": 40,
      "outputs": [
        {
          "output_type": "stream",
          "text": [
            "ADF Test Statistic : -65.30983967464397\n",
            "p-value : 0.0\n",
            "#Lags Used : 0\n",
            "Number of Observations Used : 4237\n",
            "strong evidence against the null hypothesis(Ho), reject the null hypothesis. Data has no unit root and is stationary\n"
          ],
          "name": "stdout"
        }
      ]
    },
    {
      "cell_type": "code",
      "metadata": {
        "id": "nhlLaWjtM0vS"
      },
      "source": [
        "train_size = int(len(final_df) * 0.80)\n",
        "test_size = len(final_df) - train_size"
      ],
      "execution_count": 41,
      "outputs": []
    },
    {
      "cell_type": "code",
      "metadata": {
        "id": "oY4Ihs14M0vT"
      },
      "source": [
        "train, test = final_df.iloc[0:train_size,:] , final_df.iloc[train_size:len(final_df),:]"
      ],
      "execution_count": 42,
      "outputs": []
    },
    {
      "cell_type": "code",
      "metadata": {
        "colab": {
          "base_uri": "https://localhost:8080/"
        },
        "id": "wTARnnvJM0vT",
        "outputId": "b9031702-28fa-417b-915d-deb636c1b555"
      },
      "source": [
        "print(train.shape) \n",
        "print(test.shape)"
      ],
      "execution_count": 43,
      "outputs": [
        {
          "output_type": "stream",
          "text": [
            "(3390, 8)\n",
            "(848, 8)\n"
          ],
          "name": "stdout"
        }
      ]
    },
    {
      "cell_type": "code",
      "metadata": {
        "colab": {
          "base_uri": "https://localhost:8080/"
        },
        "id": "ckY51foTM0vU",
        "outputId": "9855aeec-c079-46b8-df80-8b4599c73616"
      },
      "source": [
        "from sklearn.preprocessing import MinMaxScaler\n",
        "columns = [\"SalesAgentEmailID\",\"ContactEmailID\",\"Product\",\"Score\",\"Year\",\"Month\"]\n",
        "transformer = MinMaxScaler(feature_range=(-1,1))\n",
        "transformer = transformer.fit(train[columns].to_numpy())\n",
        "train.loc[:, columns] = transformer.transform(train[columns].to_numpy())\n",
        "test.loc[:, columns] = transformer.transform(test[columns].to_numpy())"
      ],
      "execution_count": 155,
      "outputs": [
        {
          "output_type": "stream",
          "text": [
            "/usr/local/lib/python3.7/dist-packages/pandas/core/indexing.py:1734: SettingWithCopyWarning: \n",
            "A value is trying to be set on a copy of a slice from a DataFrame.\n",
            "Try using .loc[row_indexer,col_indexer] = value instead\n",
            "\n",
            "See the caveats in the documentation: https://pandas.pydata.org/pandas-docs/stable/user_guide/indexing.html#returning-a-view-versus-a-copy\n",
            "  isetter(loc, value[:, i].tolist())\n",
            "/usr/local/lib/python3.7/dist-packages/pandas/core/indexing.py:1734: SettingWithCopyWarning: \n",
            "A value is trying to be set on a copy of a slice from a DataFrame.\n",
            "Try using .loc[row_indexer,col_indexer] = value instead\n",
            "\n",
            "See the caveats in the documentation: https://pandas.pydata.org/pandas-docs/stable/user_guide/indexing.html#returning-a-view-versus-a-copy\n",
            "  isetter(loc, value[:, i].tolist())\n"
          ],
          "name": "stderr"
        }
      ]
    },
    {
      "cell_type": "code",
      "metadata": {
        "colab": {
          "base_uri": "https://localhost:8080/"
        },
        "id": "QVD7Qd9iM0vU",
        "outputId": "96387a56-3c3e-4aa3-a2ad-fd23299de145"
      },
      "source": [
        "transformer = MinMaxScaler(feature_range=(-1,1))\n",
        "fin_transformer = transformer.fit(train[['Close_Value']])\n",
        "train['Close_Value'] = fin_transformer.transform(train[['Close_Value']])\n",
        "test['Close_Value'] = fin_transformer.transform(test[['Close_Value']])"
      ],
      "execution_count": 156,
      "outputs": [
        {
          "output_type": "stream",
          "text": [
            "/usr/local/lib/python3.7/dist-packages/ipykernel_launcher.py:3: SettingWithCopyWarning: \n",
            "A value is trying to be set on a copy of a slice from a DataFrame.\n",
            "Try using .loc[row_indexer,col_indexer] = value instead\n",
            "\n",
            "See the caveats in the documentation: https://pandas.pydata.org/pandas-docs/stable/user_guide/indexing.html#returning-a-view-versus-a-copy\n",
            "  This is separate from the ipykernel package so we can avoid doing imports until\n",
            "/usr/local/lib/python3.7/dist-packages/ipykernel_launcher.py:4: SettingWithCopyWarning: \n",
            "A value is trying to be set on a copy of a slice from a DataFrame.\n",
            "Try using .loc[row_indexer,col_indexer] = value instead\n",
            "\n",
            "See the caveats in the documentation: https://pandas.pydata.org/pandas-docs/stable/user_guide/indexing.html#returning-a-view-versus-a-copy\n",
            "  after removing the cwd from sys.path.\n"
          ],
          "name": "stderr"
        }
      ]
    },
    {
      "cell_type": "code",
      "metadata": {
        "id": "WFm-ZpBIM0vV"
      },
      "source": [
        "x_train = train[[\"SalesAgentEmailID\",\"ContactEmailID\",\"Month\",\"Year\",\"Product\",\"Score\"]].values\n",
        "y_train = train[[\"Close_Value\"]].values\n",
        "x_test = test[[\"SalesAgentEmailID\",\"ContactEmailID\",\"Month\",\"Year\",\"Product\",\"Score\"]].values\n",
        "y_test = test[[\"Close_Value\"]].values"
      ],
      "execution_count": 269,
      "outputs": []
    },
    {
      "cell_type": "code",
      "metadata": {
        "id": "s_f577FVM0vV"
      },
      "source": [
        "x_train =x_train.reshape(x_train.shape[0],x_train.shape[1])\n",
        "x_test = x_test.reshape(x_test.shape[0],x_test.shape[1])"
      ],
      "execution_count": 270,
      "outputs": []
    },
    {
      "cell_type": "code",
      "metadata": {
        "colab": {
          "base_uri": "https://localhost:8080/"
        },
        "id": "ZxDPyS5jM0vV",
        "outputId": "ef7ee68f-c9fb-4630-981f-4df0abc3ae91"
      },
      "source": [
        "print(x_train.shape, y_train.shape)\n",
        "print(x_test.shape, y_test.shape)"
      ],
      "execution_count": 271,
      "outputs": [
        {
          "output_type": "stream",
          "text": [
            "(3390, 6) (3390, 1)\n",
            "(848, 6) (848, 1)\n"
          ],
          "name": "stdout"
        }
      ]
    },
    {
      "cell_type": "markdown",
      "metadata": {
        "id": "SKj_qMiklEoC"
      },
      "source": [
        "### XGBOOST REGRESSOR"
      ]
    },
    {
      "cell_type": "code",
      "metadata": {
        "colab": {
          "base_uri": "https://localhost:8080/"
        },
        "id": "GvqDdIMQM0vV",
        "outputId": "c58f1fe7-feac-418d-bc3f-43b856e32f9d"
      },
      "source": [
        "import xgboost \n",
        "from xgboost import XGBRegressor\n",
        "model1 = XGBRegressor()\n",
        "model1.fit(x_train, y_train)"
      ],
      "execution_count": 284,
      "outputs": [
        {
          "output_type": "stream",
          "text": [
            "[16:15:42] WARNING: /workspace/src/objective/regression_obj.cu:152: reg:linear is now deprecated in favor of reg:squarederror.\n"
          ],
          "name": "stdout"
        },
        {
          "output_type": "execute_result",
          "data": {
            "text/plain": [
              "XGBRegressor(base_score=0.5, booster='gbtree', colsample_bylevel=1,\n",
              "             colsample_bynode=1, colsample_bytree=1, gamma=0,\n",
              "             importance_type='gain', learning_rate=0.1, max_delta_step=0,\n",
              "             max_depth=3, min_child_weight=1, missing=None, n_estimators=100,\n",
              "             n_jobs=1, nthread=None, objective='reg:linear', random_state=0,\n",
              "             reg_alpha=0, reg_lambda=1, scale_pos_weight=1, seed=None,\n",
              "             silent=None, subsample=1, verbosity=1)"
            ]
          },
          "metadata": {
            "tags": []
          },
          "execution_count": 284
        }
      ]
    },
    {
      "cell_type": "code",
      "metadata": {
        "id": "ELDNTaLvM0vW"
      },
      "source": [
        "y_pred = model1.predict(x_test)"
      ],
      "execution_count": 285,
      "outputs": []
    },
    {
      "cell_type": "code",
      "metadata": {
        "colab": {
          "base_uri": "https://localhost:8080/"
        },
        "id": "48CBQ50CM0vW",
        "outputId": "ad057377-e426-4bc1-9a9b-e0c4d1171c72"
      },
      "source": [
        "from sklearn import metrics\n",
        "from math import sqrt\n",
        "print(\"MEAN ABSOLUTE ERROR:\",metrics.mean_absolute_error(y_pred,y_test))\n",
        "print(\"ROOT MEAN SQUARE ERROR:\",sqrt(metrics.mean_squared_error(y_pred,y_test)))"
      ],
      "execution_count": 286,
      "outputs": [
        {
          "output_type": "stream",
          "text": [
            "MEAN ABSOLUTE ERROR: 0.013972940893665638\n",
            "ROOT MEAN SQUARE ERROR: 0.023847248707975954\n"
          ],
          "name": "stdout"
        }
      ]
    },
    {
      "cell_type": "code",
      "metadata": {
        "id": "V865E0UCCzZS"
      },
      "source": [
        "y_test = fin_transformer.inverse_transform(y_test.reshape(1,-1))\n",
        "y_pred = fin_transformer.inverse_transform(y_pred.reshape(1,-1))"
      ],
      "execution_count": 258,
      "outputs": []
    },
    {
      "cell_type": "code",
      "metadata": {
        "colab": {
          "base_uri": "https://localhost:8080/",
          "height": 265
        },
        "id": "ZERq_3BLM0vW",
        "outputId": "9da44960-12e5-4bf5-d130-7acee7958aac"
      },
      "source": [
        "plt.plot(y_test.flatten(),label = 'true')\n",
        "plt.plot(y_pred.flatten(), 'r',label = 'predicted')\n",
        "plt.legend();"
      ],
      "execution_count": 259,
      "outputs": [
        {
          "output_type": "display_data",
          "data": {
            "image/png": "[encoded data removed]",
            "text/plain": [
              "<Figure size 432x288 with 1 Axes>"
            ]
          },
          "metadata": {
            "tags": [],
            "needs_background": "light"
          }
        }
      ]
    },
    {
      "cell_type": "markdown",
      "metadata": {
        "id": "jTwqU-SGk9LC"
      },
      "source": [
        "### LINEAR REGRESSION"
      ]
    },
    {
      "cell_type": "code",
      "metadata": {
        "id": "CYc3ZIZwM0vX"
      },
      "source": [
        "from sklearn.linear_model import LinearRegression\n",
        "LR=LinearRegression()\n",
        "reg=LR.fit(x_train,y_train)\n",
        "p=LR.predict(x_test)"
      ],
      "execution_count": 275,
      "outputs": []
    },
    {
      "cell_type": "code",
      "metadata": {
        "colab": {
          "base_uri": "https://localhost:8080/"
        },
        "id": "qgUxQWbbM0vX",
        "outputId": "2a177cec-d76b-40cf-fdff-25f3bc40a172"
      },
      "source": [
        "from sklearn import metrics\n",
        "from math import sqrt\n",
        "print(\"MEAN ABSOLUTE ERROR:\",metrics.mean_absolute_error(p,y_test))\n",
        "print(\"ROOT MEAN SQUARE ERROR:\",sqrt(metrics.mean_squared_error(p,y_test)))"
      ],
      "execution_count": 276,
      "outputs": [
        {
          "output_type": "stream",
          "text": [
            "MEAN ABSOLUTE ERROR: 0.13357742978605472\n",
            "ROOT MEAN SQUARE ERROR: 0.16504237646293024\n"
          ],
          "name": "stdout"
        }
      ]
    },
    {
      "cell_type": "markdown",
      "metadata": {
        "id": "UsHxpphekzjJ"
      },
      "source": [
        "### RANDOM FOREST REGRESSOR"
      ]
    },
    {
      "cell_type": "code",
      "metadata": {
        "colab": {
          "base_uri": "https://localhost:8080/"
        },
        "id": "l8s1uleTM0vY",
        "outputId": "c364f617-0cbc-4b4c-dc1c-446be6acca4d"
      },
      "source": [
        "from sklearn.ensemble import RandomForestRegressor\n",
        "regr = RandomForestRegressor(n_estimators=100)\n",
        "reg3=regr.fit(x_train,y_train)\n",
        "p1=regr.predict(x_test)   "
      ],
      "execution_count": 279,
      "outputs": [
        {
          "output_type": "stream",
          "text": [
            "/usr/local/lib/python3.7/dist-packages/ipykernel_launcher.py:3: DataConversionWarning: A column-vector y was passed when a 1d array was expected. Please change the shape of y to (n_samples,), for example using ravel().\n",
            "  This is separate from the ipykernel package so we can avoid doing imports until\n"
          ],
          "name": "stderr"
        }
      ]
    },
    {
      "cell_type": "code",
      "metadata": {
        "colab": {
          "base_uri": "https://localhost:8080/"
        },
        "id": "eUIkGTeUM0vY",
        "outputId": "11180055-e2b4-4092-c1d9-253d18f8992e"
      },
      "source": [
        "from sklearn import metrics\n",
        "from math import sqrt\n",
        "print(\"MEAN ABSOLUTE ERROR:\",metrics.mean_absolute_error(p1,y_test))\n",
        "print(\"ROOT MEAN SQUARE ERROR:\",sqrt(metrics.mean_squared_error(p1,y_test)))"
      ],
      "execution_count": 280,
      "outputs": [
        {
          "output_type": "stream",
          "text": [
            "MEAN ABSOLUTE ERROR: 0.014404783624046982\n",
            "ROOT MEAN SQUARE ERROR: 0.02546472441794634\n"
          ],
          "name": "stdout"
        }
      ]
    },
    {
      "cell_type": "code",
      "metadata": {
        "colab": {
          "base_uri": "https://localhost:8080/",
          "height": 265
        },
        "id": "bqvr0mZWM0vZ",
        "outputId": "6e914295-558f-4333-c5e0-6030531a6211"
      },
      "source": [
        "plt.plot(y_test,label='Expected')\n",
        "plt.plot(p1, label='Predicted')\n",
        "plt.legend();"
      ],
      "execution_count": 168,
      "outputs": [
        {
          "output_type": "display_data",
          "data": {
            "image/png": "[encoded data removed]",
            "text/plain": [
              "<Figure size 432x288 with 1 Axes>"
            ]
          },
          "metadata": {
            "tags": [],
            "needs_background": "light"
          }
        }
      ]
    },
    {
      "cell_type": "markdown",
      "metadata": {
        "id": "954P3XT6hgL5"
      },
      "source": [
        "### LSTM"
      ]
    },
    {
      "cell_type": "code",
      "metadata": {
        "id": "WW8_6do6M0va"
      },
      "source": [
        "x_train=x_train.reshape(x_train.shape[0],x_train.shape[1],1)\n",
        "x_test=x_test.reshape(x_test.shape[0],x_test.shape[1],1)"
      ],
      "execution_count": 169,
      "outputs": []
    },
    {
      "cell_type": "code",
      "metadata": {
        "colab": {
          "base_uri": "https://localhost:8080/"
        },
        "id": "7XKolaRJM0va",
        "outputId": "b76edc7c-6116-4612-83fa-f8c4e1c736e5"
      },
      "source": [
        "print(x_train.shape, y_train.shape)\n",
        "print(x_test.shape, y_test.shape)"
      ],
      "execution_count": 170,
      "outputs": [
        {
          "output_type": "stream",
          "text": [
            "(3390, 6, 1) (3390, 1)\n",
            "(848, 6, 1) (848, 1)\n"
          ],
          "name": "stdout"
        }
      ]
    },
    {
      "cell_type": "code",
      "metadata": {
        "id": "EMUpOJEQM0va"
      },
      "source": [
        "from tensorflow.keras.models import Sequential\n",
        "from tensorflow import keras\n",
        "from tensorflow.keras.models import Sequential\n",
        "from tensorflow.keras.layers import Dense\n",
        "from tensorflow.keras.layers import LSTM"
      ],
      "execution_count": 171,
      "outputs": []
    },
    {
      "cell_type": "code",
      "metadata": {
        "id": "bBpTrXMcM0va"
      },
      "source": [
        "model=Sequential()\n",
        "model.add(LSTM(50,return_sequences=True,input_shape=(100,1)))\n",
        "model.add(LSTM(50,return_sequences=True))\n",
        "model.add(LSTM(50))\n",
        "model.add(Dense(1))\n",
        "model.compile(loss='mean_squared_error',optimizer='adam')"
      ],
      "execution_count": 172,
      "outputs": []
    },
    {
      "cell_type": "code",
      "metadata": {
        "colab": {
          "base_uri": "https://localhost:8080/"
        },
        "id": "9m1gD-xPeXWt",
        "outputId": "addd4630-c9d4-47dc-c11a-9a088eb63fdb"
      },
      "source": [
        "model.summary()"
      ],
      "execution_count": 173,
      "outputs": [
        {
          "output_type": "stream",
          "text": [
            "Model: \"sequential_2\"\n",
            "_________________________________________________________________\n",
            "Layer (type)                 Output Shape              Param #   \n",
            "=================================================================\n",
            "lstm_3 (LSTM)                (None, 100, 50)           10400     \n",
            "_________________________________________________________________\n",
            "lstm_4 (LSTM)                (None, 100, 50)           20200     \n",
            "_________________________________________________________________\n",
            "lstm_5 (LSTM)                (None, 50)                20200     \n",
            "_________________________________________________________________\n",
            "dense_1 (Dense)              (None, 1)                 51        \n",
            "=================================================================\n",
            "Total params: 50,851\n",
            "Trainable params: 50,851\n",
            "Non-trainable params: 0\n",
            "_________________________________________________________________\n"
          ],
          "name": "stdout"
        }
      ]
    },
    {
      "cell_type": "code",
      "metadata": {
        "colab": {
          "base_uri": "https://localhost:8080/"
        },
        "id": "VUfvmnOFM0vb",
        "outputId": "aa3c33aa-eaf3-468e-ce9c-b0dd3bc8f8eb"
      },
      "source": [
        "\n",
        "model.fit(x_train,y_train,validation_data=(x_test,y_test),epochs=100,batch_size=64,verbose=1)"
      ],
      "execution_count": 174,
      "outputs": [
        {
          "output_type": "stream",
          "text": [
            "Epoch 1/100\n",
            "WARNING:tensorflow:Model was constructed with shape (None, 100, 1) for input KerasTensor(type_spec=TensorSpec(shape=(None, 100, 1), dtype=tf.float32, name='lstm_3_input'), name='lstm_3_input', description=\"created by layer 'lstm_3_input'\"), but it was called on an input with incompatible shape (None, 6, 1).\n",
            "WARNING:tensorflow:Model was constructed with shape (None, 100, 1) for input KerasTensor(type_spec=TensorSpec(shape=(None, 100, 1), dtype=tf.float32, name='lstm_3_input'), name='lstm_3_input', description=\"created by layer 'lstm_3_input'\"), but it was called on an input with incompatible shape (None, 6, 1).\n",
            "52/53 [============================>.] - ETA: 0s - loss: 0.3996WARNING:tensorflow:Model was constructed with shape (None, 100, 1) for input KerasTensor(type_spec=TensorSpec(shape=(None, 100, 1), dtype=tf.float32, name='lstm_3_input'), name='lstm_3_input', description=\"created by layer 'lstm_3_input'\"), but it was called on an input with incompatible shape (None, 6, 1).\n",
            "53/53 [==============================] - 8s 48ms/step - loss: 0.3918 - val_loss: 0.0305\n",
            "Epoch 2/100\n",
            "53/53 [==============================] - 1s 17ms/step - loss: 0.0308 - val_loss: 0.0279\n",
            "Epoch 3/100\n",
            "53/53 [==============================] - 1s 17ms/step - loss: 0.0346 - val_loss: 0.0275\n",
            "Epoch 4/100\n",
            "53/53 [==============================] - 1s 17ms/step - loss: 0.0302 - val_loss: 0.0275\n",
            "Epoch 5/100\n",
            "53/53 [==============================] - 1s 18ms/step - loss: 0.0300 - val_loss: 0.0273\n",
            "Epoch 6/100\n",
            "53/53 [==============================] - 1s 17ms/step - loss: 0.0337 - val_loss: 0.0274\n",
            "Epoch 7/100\n",
            "53/53 [==============================] - 1s 17ms/step - loss: 0.0279 - val_loss: 0.0276\n",
            "Epoch 8/100\n",
            "53/53 [==============================] - 1s 17ms/step - loss: 0.0358 - val_loss: 0.0277\n",
            "Epoch 9/100\n",
            "53/53 [==============================] - 1s 17ms/step - loss: 0.0320 - val_loss: 0.0271\n",
            "Epoch 10/100\n",
            "53/53 [==============================] - 1s 17ms/step - loss: 0.0287 - val_loss: 0.0276\n",
            "Epoch 11/100\n",
            "53/53 [==============================] - 1s 17ms/step - loss: 0.0280 - val_loss: 0.0287\n",
            "Epoch 12/100\n",
            "53/53 [==============================] - 1s 17ms/step - loss: 0.0287 - val_loss: 0.0272\n",
            "Epoch 13/100\n",
            "53/53 [==============================] - 1s 16ms/step - loss: 0.0275 - val_loss: 0.0269\n",
            "Epoch 14/100\n",
            "53/53 [==============================] - 1s 16ms/step - loss: 0.0328 - val_loss: 0.0276\n",
            "Epoch 15/100\n",
            "53/53 [==============================] - 1s 17ms/step - loss: 0.0338 - val_loss: 0.0283\n",
            "Epoch 16/100\n",
            "53/53 [==============================] - 1s 16ms/step - loss: 0.0324 - val_loss: 0.0269\n",
            "Epoch 17/100\n",
            "53/53 [==============================] - 1s 17ms/step - loss: 0.0288 - val_loss: 0.0273\n",
            "Epoch 18/100\n",
            "53/53 [==============================] - 1s 16ms/step - loss: 0.0350 - val_loss: 0.0268\n",
            "Epoch 19/100\n",
            "53/53 [==============================] - 1s 17ms/step - loss: 0.0280 - val_loss: 0.0272\n",
            "Epoch 20/100\n",
            "53/53 [==============================] - 1s 17ms/step - loss: 0.0306 - val_loss: 0.0286\n",
            "Epoch 21/100\n",
            "53/53 [==============================] - 1s 18ms/step - loss: 0.0290 - val_loss: 0.0279\n",
            "Epoch 22/100\n",
            "53/53 [==============================] - 1s 17ms/step - loss: 0.0296 - val_loss: 0.0270\n",
            "Epoch 23/100\n",
            "53/53 [==============================] - 1s 17ms/step - loss: 0.0325 - val_loss: 0.0270\n",
            "Epoch 24/100\n",
            "53/53 [==============================] - 1s 17ms/step - loss: 0.0273 - val_loss: 0.0266\n",
            "Epoch 25/100\n",
            "53/53 [==============================] - 1s 16ms/step - loss: 0.0313 - val_loss: 0.0266\n",
            "Epoch 26/100\n",
            "53/53 [==============================] - 1s 17ms/step - loss: 0.0331 - val_loss: 0.0266\n",
            "Epoch 27/100\n",
            "53/53 [==============================] - 1s 17ms/step - loss: 0.0256 - val_loss: 0.0266\n",
            "Epoch 28/100\n",
            "53/53 [==============================] - 1s 17ms/step - loss: 0.0264 - val_loss: 0.0266\n",
            "Epoch 29/100\n",
            "53/53 [==============================] - 1s 16ms/step - loss: 0.0250 - val_loss: 0.0278\n",
            "Epoch 30/100\n",
            "53/53 [==============================] - 1s 16ms/step - loss: 0.0267 - val_loss: 0.0263\n",
            "Epoch 31/100\n",
            "53/53 [==============================] - 1s 16ms/step - loss: 0.0294 - val_loss: 0.0261\n",
            "Epoch 32/100\n",
            "53/53 [==============================] - 1s 17ms/step - loss: 0.0280 - val_loss: 0.0264\n",
            "Epoch 33/100\n",
            "53/53 [==============================] - 1s 17ms/step - loss: 0.0295 - val_loss: 0.0261\n",
            "Epoch 34/100\n",
            "53/53 [==============================] - 1s 17ms/step - loss: 0.0299 - val_loss: 0.0258\n",
            "Epoch 35/100\n",
            "53/53 [==============================] - 1s 16ms/step - loss: 0.0345 - val_loss: 0.0254\n",
            "Epoch 36/100\n",
            "53/53 [==============================] - 1s 17ms/step - loss: 0.0283 - val_loss: 0.0244\n",
            "Epoch 37/100\n",
            "53/53 [==============================] - 1s 16ms/step - loss: 0.0275 - val_loss: 0.0228\n",
            "Epoch 38/100\n",
            "53/53 [==============================] - 1s 17ms/step - loss: 0.0229 - val_loss: 0.0220\n",
            "Epoch 39/100\n",
            "53/53 [==============================] - 1s 19ms/step - loss: 0.0309 - val_loss: 0.0212\n",
            "Epoch 40/100\n",
            "53/53 [==============================] - 1s 18ms/step - loss: 0.0218 - val_loss: 0.0194\n",
            "Epoch 41/100\n",
            "53/53 [==============================] - 1s 17ms/step - loss: 0.0193 - val_loss: 0.0176\n",
            "Epoch 42/100\n",
            "53/53 [==============================] - 1s 16ms/step - loss: 0.0242 - val_loss: 0.0176\n",
            "Epoch 43/100\n",
            "53/53 [==============================] - 1s 17ms/step - loss: 0.0191 - val_loss: 0.0152\n",
            "Epoch 44/100\n",
            "53/53 [==============================] - 1s 16ms/step - loss: 0.0179 - val_loss: 0.0165\n",
            "Epoch 45/100\n",
            "53/53 [==============================] - 1s 16ms/step - loss: 0.0200 - val_loss: 0.0142\n",
            "Epoch 46/100\n",
            "53/53 [==============================] - 1s 16ms/step - loss: 0.0218 - val_loss: 0.0138\n",
            "Epoch 47/100\n",
            "53/53 [==============================] - 1s 16ms/step - loss: 0.0209 - val_loss: 0.0129\n",
            "Epoch 48/100\n",
            "53/53 [==============================] - 1s 16ms/step - loss: 0.0161 - val_loss: 0.0133\n",
            "Epoch 49/100\n",
            "53/53 [==============================] - 1s 16ms/step - loss: 0.0095 - val_loss: 0.0125\n",
            "Epoch 50/100\n",
            "53/53 [==============================] - 1s 16ms/step - loss: 0.0133 - val_loss: 0.0126\n",
            "Epoch 51/100\n",
            "53/53 [==============================] - 1s 16ms/step - loss: 0.0126 - val_loss: 0.0123\n",
            "Epoch 52/100\n",
            "53/53 [==============================] - 1s 16ms/step - loss: 0.0187 - val_loss: 0.0137\n",
            "Epoch 53/100\n",
            "53/53 [==============================] - 1s 17ms/step - loss: 0.0164 - val_loss: 0.0111\n",
            "Epoch 54/100\n",
            "53/53 [==============================] - 1s 16ms/step - loss: 0.0134 - val_loss: 0.0114\n",
            "Epoch 55/100\n",
            "53/53 [==============================] - 1s 17ms/step - loss: 0.0152 - val_loss: 0.0113\n",
            "Epoch 56/100\n",
            "53/53 [==============================] - 1s 17ms/step - loss: 0.0146 - val_loss: 0.0105\n",
            "Epoch 57/100\n",
            "53/53 [==============================] - 1s 17ms/step - loss: 0.0117 - val_loss: 0.0113\n",
            "Epoch 58/100\n",
            "53/53 [==============================] - 1s 16ms/step - loss: 0.0104 - val_loss: 0.0084\n",
            "Epoch 59/100\n",
            "53/53 [==============================] - 1s 16ms/step - loss: 0.0096 - val_loss: 0.0081\n",
            "Epoch 60/100\n",
            "53/53 [==============================] - 1s 16ms/step - loss: 0.0108 - val_loss: 0.0102\n",
            "Epoch 61/100\n",
            "53/53 [==============================] - 1s 16ms/step - loss: 0.0076 - val_loss: 0.0071\n",
            "Epoch 62/100\n",
            "53/53 [==============================] - 1s 16ms/step - loss: 0.0082 - val_loss: 0.0060\n",
            "Epoch 63/100\n",
            "53/53 [==============================] - 1s 16ms/step - loss: 0.0046 - val_loss: 0.0044\n",
            "Epoch 64/100\n",
            "53/53 [==============================] - 1s 15ms/step - loss: 0.0046 - val_loss: 0.0046\n",
            "Epoch 65/100\n",
            "53/53 [==============================] - 1s 16ms/step - loss: 0.0048 - val_loss: 0.0052\n",
            "Epoch 66/100\n",
            "53/53 [==============================] - 1s 16ms/step - loss: 0.0040 - val_loss: 0.0021\n",
            "Epoch 67/100\n",
            "53/53 [==============================] - 1s 16ms/step - loss: 0.0024 - val_loss: 0.0021\n",
            "Epoch 68/100\n",
            "53/53 [==============================] - 1s 17ms/step - loss: 0.0016 - val_loss: 0.0020\n",
            "Epoch 69/100\n",
            "53/53 [==============================] - 1s 17ms/step - loss: 0.0014 - val_loss: 0.0018\n",
            "Epoch 70/100\n",
            "53/53 [==============================] - 1s 16ms/step - loss: 0.0014 - val_loss: 0.0012\n",
            "Epoch 71/100\n",
            "53/53 [==============================] - 1s 16ms/step - loss: 0.0011 - val_loss: 0.0011\n",
            "Epoch 72/100\n",
            "53/53 [==============================] - 1s 16ms/step - loss: 0.0010 - val_loss: 0.0012\n",
            "Epoch 73/100\n",
            "53/53 [==============================] - 1s 16ms/step - loss: 0.0011 - val_loss: 0.0011\n",
            "Epoch 74/100\n",
            "53/53 [==============================] - 1s 16ms/step - loss: 9.3007e-04 - val_loss: 0.0010\n",
            "Epoch 75/100\n",
            "53/53 [==============================] - 1s 17ms/step - loss: 9.7083e-04 - val_loss: 9.3511e-04\n",
            "Epoch 76/100\n",
            "53/53 [==============================] - 1s 16ms/step - loss: 9.2550e-04 - val_loss: 9.1731e-04\n",
            "Epoch 77/100\n",
            "53/53 [==============================] - 1s 16ms/step - loss: 8.8256e-04 - val_loss: 0.0014\n",
            "Epoch 78/100\n",
            "53/53 [==============================] - 1s 16ms/step - loss: 9.8877e-04 - val_loss: 0.0010\n",
            "Epoch 79/100\n",
            "53/53 [==============================] - 1s 16ms/step - loss: 8.1359e-04 - val_loss: 0.0012\n",
            "Epoch 80/100\n",
            "53/53 [==============================] - 1s 17ms/step - loss: 8.4835e-04 - val_loss: 0.0013\n",
            "Epoch 81/100\n",
            "53/53 [==============================] - 1s 16ms/step - loss: 7.9168e-04 - val_loss: 8.4806e-04\n",
            "Epoch 82/100\n",
            "53/53 [==============================] - 1s 16ms/step - loss: 9.4036e-04 - val_loss: 7.9797e-04\n",
            "Epoch 83/100\n",
            "53/53 [==============================] - 1s 16ms/step - loss: 8.0835e-04 - val_loss: 0.0011\n",
            "Epoch 84/100\n",
            "53/53 [==============================] - 1s 16ms/step - loss: 7.8146e-04 - val_loss: 9.6348e-04\n",
            "Epoch 85/100\n",
            "53/53 [==============================] - 1s 16ms/step - loss: 7.8422e-04 - val_loss: 8.6639e-04\n",
            "Epoch 86/100\n",
            "53/53 [==============================] - 1s 16ms/step - loss: 8.1701e-04 - val_loss: 0.0011\n",
            "Epoch 87/100\n",
            "53/53 [==============================] - 1s 15ms/step - loss: 0.0010 - val_loss: 8.3739e-04\n",
            "Epoch 88/100\n",
            "53/53 [==============================] - 1s 16ms/step - loss: 8.2527e-04 - val_loss: 9.1087e-04\n",
            "Epoch 89/100\n",
            "53/53 [==============================] - 1s 17ms/step - loss: 7.0518e-04 - val_loss: 9.5742e-04\n",
            "Epoch 90/100\n",
            "53/53 [==============================] - 1s 17ms/step - loss: 7.0013e-04 - val_loss: 8.4130e-04\n",
            "Epoch 91/100\n",
            "53/53 [==============================] - 1s 17ms/step - loss: 8.1770e-04 - val_loss: 8.0941e-04\n",
            "Epoch 92/100\n",
            "53/53 [==============================] - 1s 17ms/step - loss: 6.8993e-04 - val_loss: 7.3997e-04\n",
            "Epoch 93/100\n",
            "53/53 [==============================] - 1s 16ms/step - loss: 6.3304e-04 - val_loss: 8.0132e-04\n",
            "Epoch 94/100\n",
            "53/53 [==============================] - 1s 17ms/step - loss: 7.6894e-04 - val_loss: 7.9894e-04\n",
            "Epoch 95/100\n",
            "53/53 [==============================] - 1s 17ms/step - loss: 7.9232e-04 - val_loss: 7.6358e-04\n",
            "Epoch 96/100\n",
            "53/53 [==============================] - 1s 18ms/step - loss: 6.4599e-04 - val_loss: 8.0437e-04\n",
            "Epoch 97/100\n",
            "53/53 [==============================] - 1s 16ms/step - loss: 6.1461e-04 - val_loss: 7.5664e-04\n",
            "Epoch 98/100\n",
            "53/53 [==============================] - 1s 16ms/step - loss: 6.5665e-04 - val_loss: 8.9919e-04\n",
            "Epoch 99/100\n",
            "53/53 [==============================] - 1s 17ms/step - loss: 6.6806e-04 - val_loss: 7.1728e-04\n",
            "Epoch 100/100\n",
            "53/53 [==============================] - 1s 16ms/step - loss: 6.4578e-04 - val_loss: 9.3497e-04\n"
          ],
          "name": "stdout"
        },
        {
          "output_type": "execute_result",
          "data": {
            "text/plain": [
              "<tensorflow.python.keras.callbacks.History at 0x7f5a9499f4d0>"
            ]
          },
          "metadata": {
            "tags": []
          },
          "execution_count": 174
        }
      ]
    },
    {
      "cell_type": "code",
      "metadata": {
        "colab": {
          "base_uri": "https://localhost:8080/"
        },
        "id": "y05TAF37M0vb",
        "outputId": "3fcb025a-c28a-4971-b53c-7c41d21cfb3d"
      },
      "source": [
        "y_pred = model.predict(x_test)"
      ],
      "execution_count": 175,
      "outputs": [
        {
          "output_type": "stream",
          "text": [
            "WARNING:tensorflow:Model was constructed with shape (None, 100, 1) for input KerasTensor(type_spec=TensorSpec(shape=(None, 100, 1), dtype=tf.float32, name='lstm_3_input'), name='lstm_3_input', description=\"created by layer 'lstm_3_input'\"), but it was called on an input with incompatible shape (None, 6, 1).\n"
          ],
          "name": "stdout"
        }
      ]
    },
    {
      "cell_type": "code",
      "metadata": {
        "id": "FhTGt4tVM0vc"
      },
      "source": [
        "y_train_inv = fin_transformer.inverse_transform(y_train.reshape(1,-1))\n",
        "y_test_inv = fin_transformer.inverse_transform(y_test.reshape(1,-1))\n",
        "y_pred_inv = fin_transformer.inverse_transform(y_pred)"
      ],
      "execution_count": 176,
      "outputs": []
    },
    {
      "cell_type": "code",
      "metadata": {
        "colab": {
          "base_uri": "https://localhost:8080/",
          "height": 265
        },
        "id": "fU1Ed7PhM0vc",
        "outputId": "dc740218-3d55-4f52-d138-53b360d0aedb"
      },
      "source": [
        "plt.plot(y_test_inv.flatten(),label = 'true')\n",
        "plt.plot(y_pred_inv.flatten(), 'r',label = 'predicted')\n",
        "plt.legend();"
      ],
      "execution_count": 177,
      "outputs": [
        {
          "output_type": "display_data",
          "data": {
            "image/png": "[encoded data removed]",
            "text/plain": [
              "<Figure size 432x288 with 1 Axes>"
            ]
          },
          "metadata": {
            "tags": [],
            "needs_background": "light"
          }
        }
      ]
    },
    {
      "cell_type": "code",
      "metadata": {
        "colab": {
          "base_uri": "https://localhost:8080/"
        },
        "id": "tFYLblVPM0vc",
        "outputId": "80b222ac-0182-4f65-9b38-e3157eafe5a5"
      },
      "source": [
        "print(\"MEAN ABSOLUTE ERROR:\",metrics.mean_absolute_error(y_pred,y_test))\n",
        "print(\"ROOT MEAN SQUARE ERROR:\",sqrt(metrics.mean_squared_error(y_pred,y_test)))"
      ],
      "execution_count": 192,
      "outputs": [
        {
          "output_type": "stream",
          "text": [
            "MEAN ABSOLUTE ERROR: 0.02256888614509716\n",
            "ROOT MEAN SQUARE ERROR: 0.03057735706971727\n"
          ],
          "name": "stdout"
        }
      ]
    },
    {
      "cell_type": "markdown",
      "metadata": {
        "id": "u5veloqXkhUj"
      },
      "source": [
        "### LASSO REGRESSION"
      ]
    },
    {
      "cell_type": "code",
      "metadata": {
        "id": "zGc7ovSeisQw"
      },
      "source": [
        "from sklearn.linear_model import Lasso\n",
        "lasso_reg = Lasso()\n",
        "lasso_reg.fit(x_train, y_train)\n",
        "Y_pred = lasso_reg.predict(x_test)"
      ],
      "execution_count": 281,
      "outputs": []
    },
    {
      "cell_type": "code",
      "metadata": {
        "colab": {
          "base_uri": "https://localhost:8080/"
        },
        "id": "Vz7dLXfJM0vd",
        "outputId": "5cd1584c-7fd0-4633-fd3c-2e8bf668e574"
      },
      "source": [
        "from sklearn import metrics\n",
        "from math import sqrt\n",
        "print(\"MEAN ABSOLUTE ERROR:\",metrics.mean_absolute_error(Y_pred,y_test))\n",
        "print(\"ROOT MEAN SQUARE ERROR:\",sqrt(metrics.mean_squared_error(Y_pred,y_test)))"
      ],
      "execution_count": 282,
      "outputs": [
        {
          "output_type": "stream",
          "text": [
            "MEAN ABSOLUTE ERROR: 0.1361071820814692\n",
            "ROOT MEAN SQUARE ERROR: 0.16606405407229727\n"
          ],
          "name": "stdout"
        }
      ]
    },
    {
      "cell_type": "markdown",
      "metadata": {
        "id": "_2ozwNsKlSIx"
      },
      "source": [
        "### SCORES"
      ]
    },
    {
      "cell_type": "code",
      "metadata": {
        "colab": {
          "base_uri": "https://localhost:8080/"
        },
        "id": "OdjHFQWuM0vd",
        "outputId": "edde7325-16c5-41d3-d104-d787c7ea0644"
      },
      "source": [
        "from tabulate import tabulate\n",
        "table = [[\"Linear Regression\",0.165,0.133],[\"RandomForestRegressor\",0.025,0.014],[\"XGBRegressor\",0.023,0.013,\"BEST\"],[\"LassoRegressor\",0.165,0.133,],[\"LSTM\",0.030,0.022,]]\n",
        "print(tabulate(table, headers=[\"REGRESSION\",\"RMSE\",\"MAE\",\"BETTER MODEL\"]))"
      ],
      "execution_count": 283,
      "outputs": [
        {
          "output_type": "stream",
          "text": [
            "REGRESSION               RMSE    MAE  BETTER MODEL\n",
            "---------------------  ------  -----  --------------\n",
            "Linear Regression       0.165  0.133\n",
            "RandomForestRegressor   0.025  0.014\n",
            "XGBRegressor            0.023  0.013  BEST\n",
            "LassoRegressor          0.165  0.133\n",
            "LSTM                    0.03   0.022\n"
          ],
          "name": "stdout"
        }
      ]
    },
    {
      "cell_type": "markdown",
      "metadata": {
        "id": "GDcsBsfbnvnC"
      },
      "source": [
        "### FORECAST ( XGBoost Regressor)"
      ]
    },
    {
      "cell_type": "code",
      "metadata": {
        "id": "jrdW4Zc8nKjX"
      },
      "source": [
        "forecast=final_df"
      ],
      "execution_count": 287,
      "outputs": []
    },
    {
      "cell_type": "code",
      "metadata": {
        "colab": {
          "base_uri": "https://localhost:8080/",
          "height": 204
        },
        "id": "M1W4TVRInV6p",
        "outputId": "45c1f4dd-b033-4f65-eeca-0cde9ee53eb7"
      },
      "source": [
        "forecast.head()"
      ],
      "execution_count": 288,
      "outputs": [
        {
          "output_type": "execute_result",
          "data": {
            "text/html": [
              "<div>\n",
              "<style scoped>\n",
              "    .dataframe tbody tr th:only-of-type {\n",
              "        vertical-align: middle;\n",
              "    }\n",
              "\n",
              "    .dataframe tbody tr th {\n",
              "        vertical-align: top;\n",
              "    }\n",
              "\n",
              "    .dataframe thead th {\n",
              "        text-align: right;\n",
              "    }\n",
              "</style>\n",
              "<table border=\"1\" class=\"dataframe\">\n",
              "  <thead>\n",
              "    <tr style=\"text-align: right;\">\n",
              "      <th></th>\n",
              "      <th>SalesAgentEmailID</th>\n",
              "      <th>ContactEmailID</th>\n",
              "      <th>Product</th>\n",
              "      <th>Close_Value</th>\n",
              "      <th>Score</th>\n",
              "      <th>Y-M</th>\n",
              "      <th>Year</th>\n",
              "      <th>Month</th>\n",
              "    </tr>\n",
              "  </thead>\n",
              "  <tbody>\n",
              "    <tr>\n",
              "      <th>0</th>\n",
              "      <td>0.137931</td>\n",
              "      <td>0.202381</td>\n",
              "      <td>0.333333</td>\n",
              "      <td>0.040231</td>\n",
              "      <td>0.566347</td>\n",
              "      <td>2016-05</td>\n",
              "      <td>0.0</td>\n",
              "      <td>0.363636</td>\n",
              "    </tr>\n",
              "    <tr>\n",
              "      <th>1</th>\n",
              "      <td>0.793103</td>\n",
              "      <td>0.035714</td>\n",
              "      <td>1.000000</td>\n",
              "      <td>0.000231</td>\n",
              "      <td>0.539432</td>\n",
              "      <td>2016-11</td>\n",
              "      <td>0.0</td>\n",
              "      <td>0.909091</td>\n",
              "    </tr>\n",
              "    <tr>\n",
              "      <th>2</th>\n",
              "      <td>0.551724</td>\n",
              "      <td>0.071429</td>\n",
              "      <td>0.833333</td>\n",
              "      <td>0.103868</td>\n",
              "      <td>0.429468</td>\n",
              "      <td>2016-01</td>\n",
              "      <td>0.0</td>\n",
              "      <td>0.000000</td>\n",
              "    </tr>\n",
              "    <tr>\n",
              "      <th>3</th>\n",
              "      <td>1.000000</td>\n",
              "      <td>0.892857</td>\n",
              "      <td>0.166667</td>\n",
              "      <td>0.015835</td>\n",
              "      <td>0.709191</td>\n",
              "      <td>2016-12</td>\n",
              "      <td>0.0</td>\n",
              "      <td>1.000000</td>\n",
              "    </tr>\n",
              "    <tr>\n",
              "      <th>4</th>\n",
              "      <td>0.517241</td>\n",
              "      <td>0.773810</td>\n",
              "      <td>0.666667</td>\n",
              "      <td>0.181851</td>\n",
              "      <td>0.421076</td>\n",
              "      <td>2016-12</td>\n",
              "      <td>0.0</td>\n",
              "      <td>1.000000</td>\n",
              "    </tr>\n",
              "  </tbody>\n",
              "</table>\n",
              "</div>"
            ],
            "text/plain": [
              "   SalesAgentEmailID  ContactEmailID   Product  ...      Y-M  Year     Month\n",
              "0           0.137931        0.202381  0.333333  ...  2016-05   0.0  0.363636\n",
              "1           0.793103        0.035714  1.000000  ...  2016-11   0.0  0.909091\n",
              "2           0.551724        0.071429  0.833333  ...  2016-01   0.0  0.000000\n",
              "3           1.000000        0.892857  0.166667  ...  2016-12   0.0  1.000000\n",
              "4           0.517241        0.773810  0.666667  ...  2016-12   0.0  1.000000\n",
              "\n",
              "[5 rows x 8 columns]"
            ]
          },
          "metadata": {
            "tags": []
          },
          "execution_count": 288
        }
      ]
    },
    {
      "cell_type": "code",
      "metadata": {
        "id": "lPzCnbXbn21h"
      },
      "source": [
        "from sklearn.preprocessing import MinMaxScaler\n",
        "columns = [\"SalesAgentEmailID\",\"ContactEmailID\",\"Product\",\"Score\",\"Year\",\"Month\"]\n",
        "transformer = MinMaxScaler(feature_range=(-1,1))\n",
        "transformer = transformer.fit(forecast[columns].to_numpy())\n",
        "forecast.loc[:, columns] = transformer.transform(forecast[columns].to_numpy())\n"
      ],
      "execution_count": 289,
      "outputs": []
    },
    {
      "cell_type": "code",
      "metadata": {
        "id": "-_Wvcx-Yn8MV"
      },
      "source": [
        "transformer = MinMaxScaler(feature_range=(-1,1))\n",
        "fin_transformer = transformer.fit(forecast[['Close_Value']])\n",
        "forecast['Close_Value'] = fin_transformer.transform(forecast[['Close_Value']])"
      ],
      "execution_count": 290,
      "outputs": []
    },
    {
      "cell_type": "code",
      "metadata": {
        "colab": {
          "base_uri": "https://localhost:8080/",
          "height": 204
        },
        "id": "Q7wgwzk9oAeK",
        "outputId": "f4c1fd46-aa9d-4a1b-9e7f-d9a97e92bda6"
      },
      "source": [
        "forecast.head()"
      ],
      "execution_count": 291,
      "outputs": [
        {
          "output_type": "execute_result",
          "data": {
            "text/html": [
              "<div>\n",
              "<style scoped>\n",
              "    .dataframe tbody tr th:only-of-type {\n",
              "        vertical-align: middle;\n",
              "    }\n",
              "\n",
              "    .dataframe tbody tr th {\n",
              "        vertical-align: top;\n",
              "    }\n",
              "\n",
              "    .dataframe thead th {\n",
              "        text-align: right;\n",
              "    }\n",
              "</style>\n",
              "<table border=\"1\" class=\"dataframe\">\n",
              "  <thead>\n",
              "    <tr style=\"text-align: right;\">\n",
              "      <th></th>\n",
              "      <th>SalesAgentEmailID</th>\n",
              "      <th>ContactEmailID</th>\n",
              "      <th>Product</th>\n",
              "      <th>Close_Value</th>\n",
              "      <th>Score</th>\n",
              "      <th>Y-M</th>\n",
              "      <th>Year</th>\n",
              "      <th>Month</th>\n",
              "    </tr>\n",
              "  </thead>\n",
              "  <tbody>\n",
              "    <tr>\n",
              "      <th>0</th>\n",
              "      <td>-0.724138</td>\n",
              "      <td>-0.595238</td>\n",
              "      <td>-0.333333</td>\n",
              "      <td>-0.919537</td>\n",
              "      <td>0.132694</td>\n",
              "      <td>2016-05</td>\n",
              "      <td>-1.0</td>\n",
              "      <td>-0.272727</td>\n",
              "    </tr>\n",
              "    <tr>\n",
              "      <th>1</th>\n",
              "      <td>0.586207</td>\n",
              "      <td>-0.928571</td>\n",
              "      <td>1.000000</td>\n",
              "      <td>-0.999537</td>\n",
              "      <td>0.078864</td>\n",
              "      <td>2016-11</td>\n",
              "      <td>-1.0</td>\n",
              "      <td>0.818182</td>\n",
              "    </tr>\n",
              "    <tr>\n",
              "      <th>2</th>\n",
              "      <td>0.103448</td>\n",
              "      <td>-0.857143</td>\n",
              "      <td>0.666667</td>\n",
              "      <td>-0.792264</td>\n",
              "      <td>-0.141064</td>\n",
              "      <td>2016-01</td>\n",
              "      <td>-1.0</td>\n",
              "      <td>-1.000000</td>\n",
              "    </tr>\n",
              "    <tr>\n",
              "      <th>3</th>\n",
              "      <td>1.000000</td>\n",
              "      <td>0.785714</td>\n",
              "      <td>-0.666667</td>\n",
              "      <td>-0.968331</td>\n",
              "      <td>0.418382</td>\n",
              "      <td>2016-12</td>\n",
              "      <td>-1.0</td>\n",
              "      <td>1.000000</td>\n",
              "    </tr>\n",
              "    <tr>\n",
              "      <th>4</th>\n",
              "      <td>0.034483</td>\n",
              "      <td>0.547619</td>\n",
              "      <td>0.333333</td>\n",
              "      <td>-0.636298</td>\n",
              "      <td>-0.157848</td>\n",
              "      <td>2016-12</td>\n",
              "      <td>-1.0</td>\n",
              "      <td>1.000000</td>\n",
              "    </tr>\n",
              "  </tbody>\n",
              "</table>\n",
              "</div>"
            ],
            "text/plain": [
              "   SalesAgentEmailID  ContactEmailID   Product  ...      Y-M  Year     Month\n",
              "0          -0.724138       -0.595238 -0.333333  ...  2016-05  -1.0 -0.272727\n",
              "1           0.586207       -0.928571  1.000000  ...  2016-11  -1.0  0.818182\n",
              "2           0.103448       -0.857143  0.666667  ...  2016-01  -1.0 -1.000000\n",
              "3           1.000000        0.785714 -0.666667  ...  2016-12  -1.0  1.000000\n",
              "4           0.034483        0.547619  0.333333  ...  2016-12  -1.0  1.000000\n",
              "\n",
              "[5 rows x 8 columns]"
            ]
          },
          "metadata": {
            "tags": []
          },
          "execution_count": 291
        }
      ]
    },
    {
      "cell_type": "code",
      "metadata": {
        "id": "fuqygNN7qi6R"
      },
      "source": [
        "forecast = forecast.rename(columns = {\"Y-M\":\"YearMonth\"})"
      ],
      "execution_count": 292,
      "outputs": []
    },
    {
      "cell_type": "code",
      "metadata": {
        "id": "duIIeG2FoJbV"
      },
      "source": [
        "forecast[\"YearMonth\"] = pd.to_datetime(forecast.YearMonth)"
      ],
      "execution_count": 293,
      "outputs": []
    },
    {
      "cell_type": "markdown",
      "metadata": {
        "id": "iix6c5cOBgm7"
      },
      "source": [
        "Forecast for Month"
      ]
    },
    {
      "cell_type": "code",
      "metadata": {
        "id": "k4APHyCOq5zF"
      },
      "source": [
        "forecastMonth = forecast[forecast['YearMonth'].between('2019-04-01', '2019-04-30')]"
      ],
      "execution_count": 294,
      "outputs": []
    },
    {
      "cell_type": "code",
      "metadata": {
        "id": "amAm3mAfsDnt"
      },
      "source": [
        "x_test = forecastMonth[[\"SalesAgentEmailID\",\"ContactEmailID\",\"Month\",\"Year\",\"Product\",\"Score\"]].values\n",
        "y_test = forecastMonth[[\"Close_Value\"]].values"
      ],
      "execution_count": 295,
      "outputs": []
    },
    {
      "cell_type": "code",
      "metadata": {
        "id": "qoQO63wOsb3_"
      },
      "source": [
        "y_pred = model1.predict(x_test)"
      ],
      "execution_count": 296,
      "outputs": []
    },
    {
      "cell_type": "code",
      "metadata": {
        "id": "AinKf7sHs6Xw"
      },
      "source": [
        "y_test = fin_transformer.inverse_transform(y_test.reshape(1,-1))\n",
        "y_pred = fin_transformer.inverse_transform(y_pred.reshape(1,-1))"
      ],
      "execution_count": 197,
      "outputs": []
    },
    {
      "cell_type": "code",
      "metadata": {
        "colab": {
          "base_uri": "https://localhost:8080/"
        },
        "id": "sfLgXyD3stNC",
        "outputId": "f6865b79-ac81-4a15-8b8e-f87975e9c4c8"
      },
      "source": [
        "from sklearn import metrics\n",
        "from math import sqrt\n",
        "print(\"MEAN ABSOLUTE ERROR:\",metrics.mean_absolute_error(y_pred,y_test))\n",
        "print(\"ROOT MEAN SQUARE ERROR:\",sqrt(metrics.mean_squared_error(y_pred,y_test)))"
      ],
      "execution_count": 297,
      "outputs": [
        {
          "output_type": "stream",
          "text": [
            "MEAN ABSOLUTE ERROR: 0.012975060220466515\n",
            "ROOT MEAN SQUARE ERROR: 0.02121099642205996\n"
          ],
          "name": "stdout"
        }
      ]
    },
    {
      "cell_type": "code",
      "metadata": {
        "colab": {
          "base_uri": "https://localhost:8080/",
          "height": 265
        },
        "id": "pxvGDE9ms0bG",
        "outputId": "11cbfe82-898e-47a5-c8b3-bae3c8b91284"
      },
      "source": [
        "plt.plot(y_test_inv.flatten(),label = 'true')\n",
        "plt.plot(y_pred_inv.flatten(), 'r',label = 'predicted')\n",
        "plt.legend();"
      ],
      "execution_count": 298,
      "outputs": [
        {
          "output_type": "display_data",
          "data": {
            "image/png": "[encoded data removed]",
            "text/plain": [
              "<Figure size 432x288 with 1 Axes>"
            ]
          },
          "metadata": {
            "tags": [],
            "needs_background": "light"
          }
        }
      ]
    },
    {
      "cell_type": "markdown",
      "metadata": {
        "id": "YczGHVYABnpj"
      },
      "source": [
        "Quarter"
      ]
    },
    {
      "cell_type": "code",
      "metadata": {
        "id": "1teu0_cey6Zr"
      },
      "source": [
        "forecastQua=forecastMonth = forecast[forecast['YearMonth'].between('2019-04-01', '2019-07-30')]"
      ],
      "execution_count": 307,
      "outputs": []
    },
    {
      "cell_type": "code",
      "metadata": {
        "id": "6EdwYJZXz-WH"
      },
      "source": [
        "x_test = forecastQua[[\"SalesAgentEmailID\",\"ContactEmailID\",\"Month\",\"Year\",\"Product\",\"Score\"]].values\n",
        "y_test = forecastQua[[\"Close_Value\"]].values"
      ],
      "execution_count": 308,
      "outputs": []
    },
    {
      "cell_type": "code",
      "metadata": {
        "id": "kxC5tz9r0ENs"
      },
      "source": [
        "y_pred = model1.predict(x_test)"
      ],
      "execution_count": 309,
      "outputs": []
    },
    {
      "cell_type": "code",
      "metadata": {
        "colab": {
          "base_uri": "https://localhost:8080/"
        },
        "id": "_WCt7NK90Jwu",
        "outputId": "60d5d04c-ad71-4325-caba-42c17d1f7365"
      },
      "source": [
        "from sklearn import metrics\n",
        "from math import sqrt\n",
        "print(\"MEAN ABSOLUTE ERROR:\",metrics.mean_absolute_error(y_pred,y_test))\n",
        "print(\"ROOT MEAN SQUARE ERROR:\",sqrt(metrics.mean_squared_error(y_pred,y_test)))"
      ],
      "execution_count": 310,
      "outputs": [
        {
          "output_type": "stream",
          "text": [
            "MEAN ABSOLUTE ERROR: 0.013242753223242332\n",
            "ROOT MEAN SQUARE ERROR: 0.021450925108105205\n"
          ],
          "name": "stdout"
        }
      ]
    },
    {
      "cell_type": "code",
      "metadata": {
        "colab": {
          "base_uri": "https://localhost:8080/",
          "height": 265
        },
        "id": "wlQXrCej0LjK",
        "outputId": "b1d04174-4b28-40b5-e20d-ec78dbd8b38d"
      },
      "source": [
        "plt.plot(y_test_inv.flatten(),label = 'true')\n",
        "plt.plot(y_pred_inv.flatten(), 'r',label = 'predicted')\n",
        "plt.legend();"
      ],
      "execution_count": 205,
      "outputs": [
        {
          "output_type": "display_data",
          "data": {
            "image/png": "[encoded data removed]",
            "text/plain": [
              "<Figure size 432x288 with 1 Axes>"
            ]
          },
          "metadata": {
            "tags": [],
            "needs_background": "light"
          }
        }
      ]
    },
    {
      "cell_type": "markdown",
      "metadata": {
        "id": "07gxOq2qBX7j"
      },
      "source": [
        "#### Financial Year"
      ]
    },
    {
      "cell_type": "code",
      "metadata": {
        "id": "5jZy_3Mk0uKp"
      },
      "source": [
        "forecastyr = forecast[forecast['YearMonth'].between('2019-01-01', '2019-12-01')]"
      ],
      "execution_count": 318,
      "outputs": []
    },
    {
      "cell_type": "code",
      "metadata": {
        "colab": {
          "base_uri": "https://localhost:8080/",
          "height": 204
        },
        "id": "8oCknQhF1bSX",
        "outputId": "b21178ac-0fbe-4ece-8bfd-8152d595e1eb"
      },
      "source": [
        "forecastyr.tail()"
      ],
      "execution_count": 319,
      "outputs": [
        {
          "output_type": "execute_result",
          "data": {
            "text/html": [
              "<div>\n",
              "<style scoped>\n",
              "    .dataframe tbody tr th:only-of-type {\n",
              "        vertical-align: middle;\n",
              "    }\n",
              "\n",
              "    .dataframe tbody tr th {\n",
              "        vertical-align: top;\n",
              "    }\n",
              "\n",
              "    .dataframe thead th {\n",
              "        text-align: right;\n",
              "    }\n",
              "</style>\n",
              "<table border=\"1\" class=\"dataframe\">\n",
              "  <thead>\n",
              "    <tr style=\"text-align: right;\">\n",
              "      <th></th>\n",
              "      <th>SalesAgentEmailID</th>\n",
              "      <th>ContactEmailID</th>\n",
              "      <th>Product</th>\n",
              "      <th>Close_Value</th>\n",
              "      <th>Score</th>\n",
              "      <th>YearMonth</th>\n",
              "      <th>Year</th>\n",
              "      <th>Month</th>\n",
              "    </tr>\n",
              "  </thead>\n",
              "  <tbody>\n",
              "    <tr>\n",
              "      <th>4229</th>\n",
              "      <td>0.310345</td>\n",
              "      <td>-0.476190</td>\n",
              "      <td>-0.333333</td>\n",
              "      <td>-0.929653</td>\n",
              "      <td>0.158297</td>\n",
              "      <td>2019-07-01</td>\n",
              "      <td>1.0</td>\n",
              "      <td>0.090909</td>\n",
              "    </tr>\n",
              "    <tr>\n",
              "      <th>4230</th>\n",
              "      <td>0.724138</td>\n",
              "      <td>0.571429</td>\n",
              "      <td>1.000000</td>\n",
              "      <td>-0.998545</td>\n",
              "      <td>-0.002386</td>\n",
              "      <td>2019-11-01</td>\n",
              "      <td>1.0</td>\n",
              "      <td>0.818182</td>\n",
              "    </tr>\n",
              "    <tr>\n",
              "      <th>4232</th>\n",
              "      <td>-0.586207</td>\n",
              "      <td>-0.428571</td>\n",
              "      <td>0.333333</td>\n",
              "      <td>-0.710942</td>\n",
              "      <td>0.261954</td>\n",
              "      <td>2019-07-01</td>\n",
              "      <td>1.0</td>\n",
              "      <td>0.090909</td>\n",
              "    </tr>\n",
              "    <tr>\n",
              "      <th>4233</th>\n",
              "      <td>0.379310</td>\n",
              "      <td>-0.880952</td>\n",
              "      <td>0.000000</td>\n",
              "      <td>-0.670744</td>\n",
              "      <td>-0.205593</td>\n",
              "      <td>2019-03-01</td>\n",
              "      <td>1.0</td>\n",
              "      <td>-0.636364</td>\n",
              "    </tr>\n",
              "    <tr>\n",
              "      <th>4237</th>\n",
              "      <td>0.586207</td>\n",
              "      <td>0.928571</td>\n",
              "      <td>1.000000</td>\n",
              "      <td>-0.998942</td>\n",
              "      <td>0.167609</td>\n",
              "      <td>2019-12-01</td>\n",
              "      <td>1.0</td>\n",
              "      <td>1.000000</td>\n",
              "    </tr>\n",
              "  </tbody>\n",
              "</table>\n",
              "</div>"
            ],
            "text/plain": [
              "      SalesAgentEmailID  ContactEmailID   Product  ...  YearMonth  Year     Month\n",
              "4229           0.310345       -0.476190 -0.333333  ... 2019-07-01   1.0  0.090909\n",
              "4230           0.724138        0.571429  1.000000  ... 2019-11-01   1.0  0.818182\n",
              "4232          -0.586207       -0.428571  0.333333  ... 2019-07-01   1.0  0.090909\n",
              "4233           0.379310       -0.880952  0.000000  ... 2019-03-01   1.0 -0.636364\n",
              "4237           0.586207        0.928571  1.000000  ... 2019-12-01   1.0  1.000000\n",
              "\n",
              "[5 rows x 8 columns]"
            ]
          },
          "metadata": {
            "tags": []
          },
          "execution_count": 319
        }
      ]
    },
    {
      "cell_type": "code",
      "metadata": {
        "id": "_hLn2OSE1kWX"
      },
      "source": [
        "x_test = forecastyr[[\"SalesAgentEmailID\",\"ContactEmailID\",\"Month\",\"Year\",\"Product\",\"Score\"]].values\n",
        "y_test = forecastyr[[\"Close_Value\"]].values"
      ],
      "execution_count": 320,
      "outputs": []
    },
    {
      "cell_type": "code",
      "metadata": {
        "id": "bCd4XZ4S11wn"
      },
      "source": [
        "y_pred = model1.predict(x_test)"
      ],
      "execution_count": 321,
      "outputs": []
    },
    {
      "cell_type": "code",
      "metadata": {
        "colab": {
          "base_uri": "https://localhost:8080/"
        },
        "id": "A1ma8Q9J6VLf",
        "outputId": "ece843f2-32d8-470b-aba8-be09b1d5e060"
      },
      "source": [
        "from sklearn import metrics\n",
        "from math import sqrt\n",
        "print(\"MEAN ABSOLUTE ERROR:\",metrics.mean_absolute_error(y_pred,y_test))\n",
        "print(\"ROOT MEAN SQUARE ERROR:\",sqrt(metrics.mean_squared_error(y_pred,y_test)))"
      ],
      "execution_count": 322,
      "outputs": [
        {
          "output_type": "stream",
          "text": [
            "MEAN ABSOLUTE ERROR: 0.013563770029513292\n",
            "ROOT MEAN SQUARE ERROR: 0.02213840360768868\n"
          ],
          "name": "stdout"
        }
      ]
    },
    {
      "cell_type": "code",
      "metadata": {
        "colab": {
          "base_uri": "https://localhost:8080/",
          "height": 265
        },
        "id": "InPGnaFB6XC0",
        "outputId": "168b8a52-f384-42da-f7f1-abbe1531bd61"
      },
      "source": [
        "plt.plot(y_test_inv.flatten(),label = 'true')\n",
        "plt.plot(y_pred_inv.flatten(), 'r',label = 'predicted')\n",
        "plt.legend();"
      ],
      "execution_count": 323,
      "outputs": [
        {
          "output_type": "display_data",
          "data": {
            "image/png": "[encoded data removed]",
            "text/plain": [
              "<Figure size 432x288 with 1 Axes>"
            ]
          },
          "metadata": {
            "tags": [],
            "needs_background": "light"
          }
        }
      ]
    },
    {
      "cell_type": "code",
      "metadata": {
        "id": "m2TrPj7CFZcK"
      },
      "source": [
        ""
      ],
      "execution_count": null,
      "outputs": []
    }
  ]
}